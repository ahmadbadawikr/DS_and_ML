{
  "nbformat": 4,
  "nbformat_minor": 0,
  "metadata": {
    "colab": {
      "name": "Movie_Review_Classification.ipynb",
      "provenance": [],
      "authorship_tag": "ABX9TyPpvGJIyaeM6SdUu+5frhpN",
      "include_colab_link": true
    },
    "kernelspec": {
      "name": "python3",
      "display_name": "Python 3"
    }
  },
  "cells": [
    {
      "cell_type": "markdown",
      "metadata": {
        "id": "view-in-github",
        "colab_type": "text"
      },
      "source": [
        "<a href=\"https://colab.research.google.com/github/ahmadbadawikr/DS_and_ML/blob/master/Movie_Review_Classification.ipynb\" target=\"_parent\"><img src=\"https://colab.research.google.com/assets/colab-badge.svg\" alt=\"Open In Colab\"/></a>"
      ]
    },
    {
      "cell_type": "code",
      "metadata": {
        "id": "lkkeVKCHy92B",
        "colab_type": "code",
        "colab": {}
      },
      "source": [
        "from google.colab import drive\n",
        "drive.mount('/content/drive')"
      ],
      "execution_count": null,
      "outputs": []
    },
    {
      "cell_type": "code",
      "metadata": {
        "id": "2oXjZJE_zIzp",
        "colab_type": "code",
        "colab": {
          "base_uri": "https://localhost:8080/",
          "height": 323
        },
        "outputId": "2c13425c-2eb2-4952-bd17-57316a12843c"
      },
      "source": [
        "import pandas as pd\n",
        "df = pd.read_csv('/content/drive/My Drive/wiki_movie_plot.csv')\n",
        "\n",
        "df.head()"
      ],
      "execution_count": null,
      "outputs": [
        {
          "output_type": "execute_result",
          "data": {
            "text/html": [
              "<div>\n",
              "<style scoped>\n",
              "    .dataframe tbody tr th:only-of-type {\n",
              "        vertical-align: middle;\n",
              "    }\n",
              "\n",
              "    .dataframe tbody tr th {\n",
              "        vertical-align: top;\n",
              "    }\n",
              "\n",
              "    .dataframe thead th {\n",
              "        text-align: right;\n",
              "    }\n",
              "</style>\n",
              "<table border=\"1\" class=\"dataframe\">\n",
              "  <thead>\n",
              "    <tr style=\"text-align: right;\">\n",
              "      <th></th>\n",
              "      <th>Release Year</th>\n",
              "      <th>Title</th>\n",
              "      <th>Origin/Ethnicity</th>\n",
              "      <th>Director</th>\n",
              "      <th>Cast</th>\n",
              "      <th>Genre</th>\n",
              "      <th>Wiki Page</th>\n",
              "      <th>Plot</th>\n",
              "    </tr>\n",
              "  </thead>\n",
              "  <tbody>\n",
              "    <tr>\n",
              "      <th>0</th>\n",
              "      <td>1901</td>\n",
              "      <td>Kansas Saloon Smashers</td>\n",
              "      <td>American</td>\n",
              "      <td>Unknown</td>\n",
              "      <td>NaN</td>\n",
              "      <td>unknown</td>\n",
              "      <td>https://en.wikipedia.org/wiki/Kansas_Saloon_Sm...</td>\n",
              "      <td>A bartender is working at a saloon, serving dr...</td>\n",
              "    </tr>\n",
              "    <tr>\n",
              "      <th>1</th>\n",
              "      <td>1901</td>\n",
              "      <td>Love by the Light of the Moon</td>\n",
              "      <td>American</td>\n",
              "      <td>Unknown</td>\n",
              "      <td>NaN</td>\n",
              "      <td>unknown</td>\n",
              "      <td>https://en.wikipedia.org/wiki/Love_by_the_Ligh...</td>\n",
              "      <td>The moon, painted with a smiling face hangs ov...</td>\n",
              "    </tr>\n",
              "    <tr>\n",
              "      <th>2</th>\n",
              "      <td>1901</td>\n",
              "      <td>The Martyred Presidents</td>\n",
              "      <td>American</td>\n",
              "      <td>Unknown</td>\n",
              "      <td>NaN</td>\n",
              "      <td>unknown</td>\n",
              "      <td>https://en.wikipedia.org/wiki/The_Martyred_Pre...</td>\n",
              "      <td>The film, just over a minute long, is composed...</td>\n",
              "    </tr>\n",
              "    <tr>\n",
              "      <th>3</th>\n",
              "      <td>1901</td>\n",
              "      <td>Terrible Teddy, the Grizzly King</td>\n",
              "      <td>American</td>\n",
              "      <td>Unknown</td>\n",
              "      <td>NaN</td>\n",
              "      <td>unknown</td>\n",
              "      <td>https://en.wikipedia.org/wiki/Terrible_Teddy,_...</td>\n",
              "      <td>Lasting just 61 seconds and consisting of two ...</td>\n",
              "    </tr>\n",
              "    <tr>\n",
              "      <th>4</th>\n",
              "      <td>1902</td>\n",
              "      <td>Jack and the Beanstalk</td>\n",
              "      <td>American</td>\n",
              "      <td>George S. Fleming, Edwin S. Porter</td>\n",
              "      <td>NaN</td>\n",
              "      <td>unknown</td>\n",
              "      <td>https://en.wikipedia.org/wiki/Jack_and_the_Bea...</td>\n",
              "      <td>The earliest known adaptation of the classic f...</td>\n",
              "    </tr>\n",
              "  </tbody>\n",
              "</table>\n",
              "</div>"
            ],
            "text/plain": [
              "   Release Year  ...                                               Plot\n",
              "0          1901  ...  A bartender is working at a saloon, serving dr...\n",
              "1          1901  ...  The moon, painted with a smiling face hangs ov...\n",
              "2          1901  ...  The film, just over a minute long, is composed...\n",
              "3          1901  ...  Lasting just 61 seconds and consisting of two ...\n",
              "4          1902  ...  The earliest known adaptation of the classic f...\n",
              "\n",
              "[5 rows x 8 columns]"
            ]
          },
          "metadata": {
            "tags": []
          },
          "execution_count": 2
        }
      ]
    },
    {
      "cell_type": "markdown",
      "metadata": {
        "id": "6t48mVeN3Hcu",
        "colab_type": "text"
      },
      "source": [
        "Film akan diklasifikasikan origin/ethnicity -nya berdasarkan plot"
      ]
    },
    {
      "cell_type": "code",
      "metadata": {
        "id": "RYF7k_VF0K6b",
        "colab_type": "code",
        "colab": {
          "base_uri": "https://localhost:8080/",
          "height": 34
        },
        "outputId": "8cb895b0-aa32-43a6-9288-3c93139db7bb"
      },
      "source": [
        "len(df['Origin/Ethnicity'].unique())"
      ],
      "execution_count": null,
      "outputs": [
        {
          "output_type": "execute_result",
          "data": {
            "text/plain": [
              "24"
            ]
          },
          "metadata": {
            "tags": []
          },
          "execution_count": 3
        }
      ]
    },
    {
      "cell_type": "code",
      "metadata": {
        "id": "qi_mzmdi2yUZ",
        "colab_type": "code",
        "colab": {
          "base_uri": "https://localhost:8080/",
          "height": 102
        },
        "outputId": "05969776-834e-458a-bfb9-50a88da968c8"
      },
      "source": [
        "df['Origin/Ethnicity'].unique()"
      ],
      "execution_count": null,
      "outputs": [
        {
          "output_type": "execute_result",
          "data": {
            "text/plain": [
              "array(['American', 'Australian', 'Bangladeshi', 'British', 'Canadian',\n",
              "       'Chinese', 'Egyptian', 'Hong Kong', 'Filipino', 'Assamese',\n",
              "       'Bengali', 'Bollywood', 'Kannada', 'Malayalam', 'Marathi',\n",
              "       'Punjabi', 'Tamil', 'Telugu', 'Japanese', 'Malaysian', 'Maldivian',\n",
              "       'Russian', 'South_Korean', 'Turkish'], dtype=object)"
            ]
          },
          "metadata": {
            "tags": []
          },
          "execution_count": 4
        }
      ]
    },
    {
      "cell_type": "markdown",
      "metadata": {
        "id": "ZYytqs3k3ysq",
        "colab_type": "text"
      },
      "source": [
        "Hapus beberapa column"
      ]
    },
    {
      "cell_type": "code",
      "metadata": {
        "id": "qNMvIg1L30a4",
        "colab_type": "code",
        "colab": {}
      },
      "source": [
        "df = df.drop(columns=['Release Year','Title','Director','Cast','Genre','Wiki Page'])"
      ],
      "execution_count": null,
      "outputs": []
    },
    {
      "cell_type": "code",
      "metadata": {
        "id": "8N953ywP0eAl",
        "colab_type": "code",
        "colab": {
          "base_uri": "https://localhost:8080/",
          "height": 170
        },
        "outputId": "3889ab24-7e74-42aa-c8ad-b12a3a2319dd"
      },
      "source": [
        "df.info()"
      ],
      "execution_count": null,
      "outputs": [
        {
          "output_type": "stream",
          "text": [
            "<class 'pandas.core.frame.DataFrame'>\n",
            "RangeIndex: 34886 entries, 0 to 34885\n",
            "Data columns (total 2 columns):\n",
            " #   Column            Non-Null Count  Dtype \n",
            "---  ------            --------------  ----- \n",
            " 0   Origin/Ethnicity  34886 non-null  object\n",
            " 1   Plot              34886 non-null  object\n",
            "dtypes: object(2)\n",
            "memory usage: 545.2+ KB\n"
          ],
          "name": "stdout"
        }
      ]
    },
    {
      "cell_type": "code",
      "metadata": {
        "id": "MQzZPUth0jwc",
        "colab_type": "code",
        "colab": {
          "base_uri": "https://localhost:8080/",
          "height": 173
        },
        "outputId": "31404fa3-a34b-41a5-be10-0b4c9167a38a"
      },
      "source": [
        "df.describe()"
      ],
      "execution_count": null,
      "outputs": [
        {
          "output_type": "execute_result",
          "data": {
            "text/html": [
              "<div>\n",
              "<style scoped>\n",
              "    .dataframe tbody tr th:only-of-type {\n",
              "        vertical-align: middle;\n",
              "    }\n",
              "\n",
              "    .dataframe tbody tr th {\n",
              "        vertical-align: top;\n",
              "    }\n",
              "\n",
              "    .dataframe thead th {\n",
              "        text-align: right;\n",
              "    }\n",
              "</style>\n",
              "<table border=\"1\" class=\"dataframe\">\n",
              "  <thead>\n",
              "    <tr style=\"text-align: right;\">\n",
              "      <th></th>\n",
              "      <th>Origin/Ethnicity</th>\n",
              "      <th>Plot</th>\n",
              "    </tr>\n",
              "  </thead>\n",
              "  <tbody>\n",
              "    <tr>\n",
              "      <th>count</th>\n",
              "      <td>34886</td>\n",
              "      <td>34886</td>\n",
              "    </tr>\n",
              "    <tr>\n",
              "      <th>unique</th>\n",
              "      <td>24</td>\n",
              "      <td>33869</td>\n",
              "    </tr>\n",
              "    <tr>\n",
              "      <th>top</th>\n",
              "      <td>American</td>\n",
              "      <td>(マッスル人参争奪！超人大戦争, Massuru Ninjin Soudatsu! Chou...</td>\n",
              "    </tr>\n",
              "    <tr>\n",
              "      <th>freq</th>\n",
              "      <td>17377</td>\n",
              "      <td>6</td>\n",
              "    </tr>\n",
              "  </tbody>\n",
              "</table>\n",
              "</div>"
            ],
            "text/plain": [
              "       Origin/Ethnicity                                               Plot\n",
              "count             34886                                              34886\n",
              "unique               24                                              33869\n",
              "top            American  (マッスル人参争奪！超人大戦争, Massuru Ninjin Soudatsu! Chou...\n",
              "freq              17377                                                  6"
            ]
          },
          "metadata": {
            "tags": []
          },
          "execution_count": 7
        }
      ]
    },
    {
      "cell_type": "code",
      "metadata": {
        "id": "4ObfwoOD1y1O",
        "colab_type": "code",
        "colab": {
          "base_uri": "https://localhost:8080/",
          "height": 442
        },
        "outputId": "88c3a10c-2b0e-4b44-ee7a-80c1ed91c819"
      },
      "source": [
        "df['Origin/Ethnicity'].value_counts()"
      ],
      "execution_count": null,
      "outputs": [
        {
          "output_type": "execute_result",
          "data": {
            "text/plain": [
              "American        17377\n",
              "British          3670\n",
              "Bollywood        2931\n",
              "Tamil            2599\n",
              "Telugu           1311\n",
              "Japanese         1188\n",
              "Malayalam        1095\n",
              "Hong Kong         791\n",
              "Canadian          723\n",
              "Australian        576\n",
              "South_Korean      522\n",
              "Chinese           463\n",
              "Kannada           444\n",
              "Bengali           306\n",
              "Russian           232\n",
              "Marathi           141\n",
              "Filipino          128\n",
              "Bangladeshi        87\n",
              "Punjabi            84\n",
              "Turkish            70\n",
              "Malaysian          70\n",
              "Egyptian           67\n",
              "Assamese            9\n",
              "Maldivian           2\n",
              "Name: Origin/Ethnicity, dtype: int64"
            ]
          },
          "metadata": {
            "tags": []
          },
          "execution_count": 8
        }
      ]
    },
    {
      "cell_type": "markdown",
      "metadata": {
        "id": "KQPbwZrj3V62",
        "colab_type": "text"
      },
      "source": [
        "Ambil 1000 data di American, British, Bollywood"
      ]
    },
    {
      "cell_type": "code",
      "metadata": {
        "id": "r1LBUh9w1dv-",
        "colab_type": "code",
        "colab": {}
      },
      "source": [
        "USmovies = df.loc[(df['Origin/Ethnicity'] == 'American')].head(2000)\n",
        "BRmovies = df.loc[(df['Origin/Ethnicity'] == 'British')].head(2000)\n",
        "BOmovies = df.loc[(df['Origin/Ethnicity'] == 'Bollywood')].head(2000)"
      ],
      "execution_count": null,
      "outputs": []
    },
    {
      "cell_type": "code",
      "metadata": {
        "id": "5rS40KohN3le",
        "colab_type": "code",
        "colab": {}
      },
      "source": [
        "frames = [USmovies, BRmovies, BOmovies]\n",
        "movies = pd.concat(frames)"
      ],
      "execution_count": null,
      "outputs": []
    },
    {
      "cell_type": "code",
      "metadata": {
        "id": "2AA7uugYEdzR",
        "colab_type": "code",
        "colab": {
          "base_uri": "https://localhost:8080/",
          "height": 173
        },
        "outputId": "9b0e4fa1-772f-4854-86bb-f166d4ed0dda"
      },
      "source": [
        "movies.describe()"
      ],
      "execution_count": null,
      "outputs": [
        {
          "output_type": "execute_result",
          "data": {
            "text/html": [
              "<div>\n",
              "<style scoped>\n",
              "    .dataframe tbody tr th:only-of-type {\n",
              "        vertical-align: middle;\n",
              "    }\n",
              "\n",
              "    .dataframe tbody tr th {\n",
              "        vertical-align: top;\n",
              "    }\n",
              "\n",
              "    .dataframe thead th {\n",
              "        text-align: right;\n",
              "    }\n",
              "</style>\n",
              "<table border=\"1\" class=\"dataframe\">\n",
              "  <thead>\n",
              "    <tr style=\"text-align: right;\">\n",
              "      <th></th>\n",
              "      <th>Origin/Ethnicity</th>\n",
              "      <th>Plot</th>\n",
              "    </tr>\n",
              "  </thead>\n",
              "  <tbody>\n",
              "    <tr>\n",
              "      <th>count</th>\n",
              "      <td>6000</td>\n",
              "      <td>6000</td>\n",
              "    </tr>\n",
              "    <tr>\n",
              "      <th>unique</th>\n",
              "      <td>3</td>\n",
              "      <td>5925</td>\n",
              "    </tr>\n",
              "    <tr>\n",
              "      <th>top</th>\n",
              "      <td>Bollywood</td>\n",
              "      <td>Kammo (Nargis) lives a very wealthy lifestyle ...</td>\n",
              "    </tr>\n",
              "    <tr>\n",
              "      <th>freq</th>\n",
              "      <td>2000</td>\n",
              "      <td>3</td>\n",
              "    </tr>\n",
              "  </tbody>\n",
              "</table>\n",
              "</div>"
            ],
            "text/plain": [
              "       Origin/Ethnicity                                               Plot\n",
              "count              6000                                               6000\n",
              "unique                3                                               5925\n",
              "top           Bollywood  Kammo (Nargis) lives a very wealthy lifestyle ...\n",
              "freq               2000                                                  3"
            ]
          },
          "metadata": {
            "tags": []
          },
          "execution_count": 11
        }
      ]
    },
    {
      "cell_type": "code",
      "metadata": {
        "id": "I4VOk-QgEmnk",
        "colab_type": "code",
        "colab": {}
      },
      "source": [
        "# fungsi untuk plot cleaning\n",
        "import re\n",
        "\n",
        "def clean_text(text):\n",
        "    text = text.lower()\n",
        "    text = re.sub(r\"what's\", \"what is \", text)\n",
        "    text = re.sub(r\"\\'s\", \" \", text)\n",
        "    text = re.sub(r\"\\'ve\", \" have \", text)\n",
        "    text = re.sub(r\"can't\", \"can not \", text)\n",
        "    text = re.sub(r\"n't\", \" not \", text)\n",
        "    text = re.sub(r\"i'm\", \"i am \", text)\n",
        "    text = re.sub(r\"\\'re\", \" are \", text)\n",
        "    text = re.sub(r\"\\'d\", \" would \", text)\n",
        "    text = re.sub(r\"\\'ll\", \" will \", text)\n",
        "    text = re.sub(r\"\\'scuse\", \" excuse \", text)\n",
        "    #text = re.sub('\\W', ' ', text)\n",
        "    #text = re.sub('\\s+', ' ', text)\n",
        "    text = text.strip(' ')\n",
        "    return text"
      ],
      "execution_count": null,
      "outputs": []
    },
    {
      "cell_type": "code",
      "metadata": {
        "id": "SOIiU20EFtp2",
        "colab_type": "code",
        "colab": {
          "base_uri": "https://localhost:8080/",
          "height": 88
        },
        "outputId": "a0814630-f161-4ba5-86a4-4c8db0f41355"
      },
      "source": [
        "list(movies['Plot'][7:10])"
      ],
      "execution_count": null,
      "outputs": [
        {
          "output_type": "execute_result",
          "data": {
            "text/plain": [
              "['The film is about a family who move to the suburbs, hoping for a quiet life. Things start to go wrong, and the wife gets violent and starts throwing crockery, leading to her arrest.',\n",
              " 'The opening scene shows the interior of the robbers\\' den. The walls are decorated with the portraits of notorious criminals and pictures illustrating the exploits of famous bandits. Some of the gang are lounging about, while others are reading novels and illustrated papers. Although of youthful appearance, each is dressed like a typical Western desperado. The \"Bandit Queen,\" leading a blindfolded new recruit, now enters the room. He is led to the center of the room, raises his right hand and is solemnly sworn in. When the bandage is removed from his eyes he finds himself looking into the muzzles of a dozen or more 45\\'s. The gang then congratulates the new member and heartily shake his hand. The \"Bandit Queen\" who is evidently the leader of the gang, now calls for volunteers to hold up a train. All respond, but she picks out seven for the job who immediately leave the cabin.\\r\\nThe next scene shows the gang breaking into a barn. They steal ponies and ride away. Upon reaching the place agreed upon they picket their ponies and leaving them in charge of a trusted member proceed to a wild mountain spot in a bend of the railroad, where the road runs over a steep embankment. The spot is an ideal one for holding up a train. Cross ties are now placed on the railroad track and the gang hide in some bushes close by and wait for the train. The train soon approaches and is brought to a stop. The engineer leaves his engine and proceeds to remove the obstruction on the track. While he is bending over one of the gang sneaks up behind them and hits him on the head with an axe, and knocks him senseless down the embankment, while the gang surround the train and hold up the passengers. After securing all the \"valuables,\" consisting principally of candy and dolls, the robbers uncouple the engine and one car and make their escape just in time to avoid a posse of police who appear on the scene. Further up the road they abandon the engine and car, take to the woods and soon reach their ponies.\\r\\nIn the meantime the police have learned the particulars of the hold-up from the frightened passengers and have started up the railroad tracks after the fleeing robbers. The robbers are next seen riding up the bed of a shallow stream and finally reach their den, where the remainder of the gang have been waiting for them. Believing they have successfully eluded their pursuers, they proceed to divide the \"plunder.\" The police, however, have struck the right trail and are in close pursuit. While the \"plunder\" is being divided a sentry gives the alarm and the entire gang, abandoning everything, rush from the cabin barely in time to escape capture. The police make a hurried search and again start in pursuit. The robbers are so hard pressed that they are unable to reach their ponies, and are obliged to take chances on foot. The police now get in sight of the fleeing robbers and a lively chase follows through tall weeds, over a bridge and up a steep hill. Reaching a pond the police are close on their heels. The foremost robbers jump in clothes and all and strike out for the opposite bank. Two hesitate and are captured. Boats are secured and after an exciting tussle the entire gang is rounded up. In the mix up one of the police is dragged overboard. The final scene shows the entire gang of bedraggled and crestfallen robbers tied together with a rope and being led away by the police. Two of the police are loaded down with revolvers, knives and cartridge belts, and resemble walking aresenals. As a fitting climax a confederate steals out of the woods, cuts the rope and gallantly rescues the \"Bandit Queen.\"',\n",
              " \"Scenes are introduced using lines of the poem.[2] Santa Claus, played by Harry Eytinge, is shown feeding real reindeer[4] and finishes his work in the workshop. Meanwhile, the children of a city household hang their stockings and go to bed, but unable to sleep they engage in a pillow fight. Santa Claus leaves his home on a sleigh with his reindeer. He enters the children's house through the chimney, and leaves the presents. The children come down the stairs and enjoy their presents.\"]"
            ]
          },
          "metadata": {
            "tags": []
          },
          "execution_count": 14
        }
      ]
    },
    {
      "cell_type": "code",
      "metadata": {
        "id": "JkngryCuE5B9",
        "colab_type": "code",
        "colab": {
          "base_uri": "https://localhost:8080/",
          "height": 88
        },
        "outputId": "b7c4b9d8-6cf0-4845-f353-ee663d1257ff"
      },
      "source": [
        "list(movies['Plot'][7:10].apply(clean_text))"
      ],
      "execution_count": null,
      "outputs": [
        {
          "output_type": "execute_result",
          "data": {
            "text/plain": [
              "['the film is about a family who move to the suburbs, hoping for a quiet life. things start to go wrong, and the wife gets violent and starts throwing crockery, leading to her arrest.',\n",
              " 'the opening scene shows the interior of the robbers\\' den. the walls are decorated with the portraits of notorious criminals and pictures illustrating the exploits of famous bandits. some of the gang are lounging about, while others are reading novels and illustrated papers. although of youthful appearance, each is dressed like a typical western desperado. the \"bandit queen,\" leading a blindfolded new recruit, now enters the room. he is led to the center of the room, raises his right hand and is solemnly sworn in. when the bandage is removed from his eyes he finds himself looking into the muzzles of a dozen or more 45 . the gang then congratulates the new member and heartily shake his hand. the \"bandit queen\" who is evidently the leader of the gang, now calls for volunteers to hold up a train. all respond, but she picks out seven for the job who immediately leave the cabin.\\r\\nthe next scene shows the gang breaking into a barn. they steal ponies and ride away. upon reaching the place agreed upon they picket their ponies and leaving them in charge of a trusted member proceed to a wild mountain spot in a bend of the railroad, where the road runs over a steep embankment. the spot is an ideal one for holding up a train. cross ties are now placed on the railroad track and the gang hide in some bushes close by and wait for the train. the train soon approaches and is brought to a stop. the engineer leaves his engine and proceeds to remove the obstruction on the track. while he is bending over one of the gang sneaks up behind them and hits him on the head with an axe, and knocks him senseless down the embankment, while the gang surround the train and hold up the passengers. after securing all the \"valuables,\" consisting principally of candy and dolls, the robbers uncouple the engine and one car and make their escape just in time to avoid a posse of police who appear on the scene. further up the road they abandon the engine and car, take to the woods and soon reach their ponies.\\r\\nin the meantime the police have learned the particulars of the hold-up from the frightened passengers and have started up the railroad tracks after the fleeing robbers. the robbers are next seen riding up the bed of a shallow stream and finally reach their den, where the remainder of the gang have been waiting for them. believing they have successfully eluded their pursuers, they proceed to divide the \"plunder.\" the police, however, have struck the right trail and are in close pursuit. while the \"plunder\" is being divided a sentry gives the alarm and the entire gang, abandoning everything, rush from the cabin barely in time to escape capture. the police make a hurried search and again start in pursuit. the robbers are so hard pressed that they are unable to reach their ponies, and are obliged to take chances on foot. the police now get in sight of the fleeing robbers and a lively chase follows through tall weeds, over a bridge and up a steep hill. reaching a pond the police are close on their heels. the foremost robbers jump in clothes and all and strike out for the opposite bank. two hesitate and are captured. boats are secured and after an exciting tussle the entire gang is rounded up. in the mix up one of the police is dragged overboard. the final scene shows the entire gang of bedraggled and crestfallen robbers tied together with a rope and being led away by the police. two of the police are loaded down with revolvers, knives and cartridge belts, and resemble walking aresenals. as a fitting climax a confederate steals out of the woods, cuts the rope and gallantly rescues the \"bandit queen.\"',\n",
              " 'scenes are introduced using lines of the poem.[2] santa claus, played by harry eytinge, is shown feeding real reindeer[4] and finishes his work in the workshop. meanwhile, the children of a city household hang their stockings and go to bed, but unable to sleep they engage in a pillow fight. santa claus leaves his home on a sleigh with his reindeer. he enters the children  house through the chimney, and leaves the presents. the children come down the stairs and enjoy their presents.']"
            ]
          },
          "metadata": {
            "tags": []
          },
          "execution_count": 15
        }
      ]
    },
    {
      "cell_type": "code",
      "metadata": {
        "id": "vEIZxA76GFJ_",
        "colab_type": "code",
        "colab": {}
      },
      "source": [
        "movies['Plot'] = movies['Plot'].apply(clean_text)"
      ],
      "execution_count": null,
      "outputs": []
    },
    {
      "cell_type": "code",
      "metadata": {
        "id": "W-IxZ-kYGMGu",
        "colab_type": "code",
        "colab": {
          "base_uri": "https://localhost:8080/",
          "height": 419
        },
        "outputId": "2212f22e-21e1-4e66-e23e-f665756bfaa2"
      },
      "source": [
        "movies"
      ],
      "execution_count": null,
      "outputs": [
        {
          "output_type": "execute_result",
          "data": {
            "text/html": [
              "<div>\n",
              "<style scoped>\n",
              "    .dataframe tbody tr th:only-of-type {\n",
              "        vertical-align: middle;\n",
              "    }\n",
              "\n",
              "    .dataframe tbody tr th {\n",
              "        vertical-align: top;\n",
              "    }\n",
              "\n",
              "    .dataframe thead th {\n",
              "        text-align: right;\n",
              "    }\n",
              "</style>\n",
              "<table border=\"1\" class=\"dataframe\">\n",
              "  <thead>\n",
              "    <tr style=\"text-align: right;\">\n",
              "      <th></th>\n",
              "      <th>Origin/Ethnicity</th>\n",
              "      <th>Plot</th>\n",
              "    </tr>\n",
              "  </thead>\n",
              "  <tbody>\n",
              "    <tr>\n",
              "      <th>0</th>\n",
              "      <td>American</td>\n",
              "      <td>a bartender is working at a saloon, serving dr...</td>\n",
              "    </tr>\n",
              "    <tr>\n",
              "      <th>1</th>\n",
              "      <td>American</td>\n",
              "      <td>the moon, painted with a smiling face hangs ov...</td>\n",
              "    </tr>\n",
              "    <tr>\n",
              "      <th>2</th>\n",
              "      <td>American</td>\n",
              "      <td>the film, just over a minute long, is composed...</td>\n",
              "    </tr>\n",
              "    <tr>\n",
              "      <th>3</th>\n",
              "      <td>American</td>\n",
              "      <td>lasting just 61 seconds and consisting of two ...</td>\n",
              "    </tr>\n",
              "    <tr>\n",
              "      <th>4</th>\n",
              "      <td>American</td>\n",
              "      <td>the earliest known adaptation of the classic f...</td>\n",
              "    </tr>\n",
              "    <tr>\n",
              "      <th>...</th>\n",
              "      <td>...</td>\n",
              "      <td>...</td>\n",
              "    </tr>\n",
              "    <tr>\n",
              "      <th>26192</th>\n",
              "      <td>Bollywood</td>\n",
              "      <td>anjali (rimi sen) arrives in mumbai looking fo...</td>\n",
              "    </tr>\n",
              "    <tr>\n",
              "      <th>26193</th>\n",
              "      <td>Bollywood</td>\n",
              "      <td>dil (gurline chopra) is getting engaged to abh...</td>\n",
              "    </tr>\n",
              "    <tr>\n",
              "      <th>26194</th>\n",
              "      <td>Bollywood</td>\n",
              "      <td>nandini and tina are stepsisters and after the...</td>\n",
              "    </tr>\n",
              "    <tr>\n",
              "      <th>26195</th>\n",
              "      <td>Bollywood</td>\n",
              "      <td>rajiv (shahid kapoor) wants to be one of the p...</td>\n",
              "    </tr>\n",
              "    <tr>\n",
              "      <th>26196</th>\n",
              "      <td>Bollywood</td>\n",
              "      <td>aditya is carried to a magical island where he...</td>\n",
              "    </tr>\n",
              "  </tbody>\n",
              "</table>\n",
              "<p>6000 rows × 2 columns</p>\n",
              "</div>"
            ],
            "text/plain": [
              "      Origin/Ethnicity                                               Plot\n",
              "0             American  a bartender is working at a saloon, serving dr...\n",
              "1             American  the moon, painted with a smiling face hangs ov...\n",
              "2             American  the film, just over a minute long, is composed...\n",
              "3             American  lasting just 61 seconds and consisting of two ...\n",
              "4             American  the earliest known adaptation of the classic f...\n",
              "...                ...                                                ...\n",
              "26192        Bollywood  anjali (rimi sen) arrives in mumbai looking fo...\n",
              "26193        Bollywood  dil (gurline chopra) is getting engaged to abh...\n",
              "26194        Bollywood  nandini and tina are stepsisters and after the...\n",
              "26195        Bollywood  rajiv (shahid kapoor) wants to be one of the p...\n",
              "26196        Bollywood  aditya is carried to a magical island where he...\n",
              "\n",
              "[6000 rows x 2 columns]"
            ]
          },
          "metadata": {
            "tags": []
          },
          "execution_count": 17
        }
      ]
    },
    {
      "cell_type": "code",
      "metadata": {
        "id": "XwB6K5R9GoJH",
        "colab_type": "code",
        "colab": {
          "base_uri": "https://localhost:8080/",
          "height": 350
        },
        "outputId": "ab1e6e57-57fe-4480-b7f2-9f0dedb2b23c"
      },
      "source": [
        "import matplotlib.pyplot as plt\n",
        "%matplotlib inline\n",
        "import seaborn as sns\n",
        "\n",
        "sns.countplot(movies['Origin/Ethnicity'])\n",
        "plt.xlabel('Origin/Ethnicity')"
      ],
      "execution_count": null,
      "outputs": [
        {
          "output_type": "stream",
          "text": [
            "/usr/local/lib/python3.6/dist-packages/statsmodels/tools/_testing.py:19: FutureWarning: pandas.util.testing is deprecated. Use the functions in the public API at pandas.testing instead.\n",
            "  import pandas.util.testing as tm\n"
          ],
          "name": "stderr"
        },
        {
          "output_type": "execute_result",
          "data": {
            "text/plain": [
              "Text(0.5, 0, 'Origin/Ethnicity')"
            ]
          },
          "metadata": {
            "tags": []
          },
          "execution_count": 18
        },
        {
          "output_type": "display_data",
          "data": {
            "image/png": "[encoded data removed]",
            "text/plain": [
              "<Figure size 432x288 with 1 Axes>"
            ]
          },
          "metadata": {
            "tags": [],
            "needs_background": "light"
          }
        }
      ]
    },
    {
      "cell_type": "markdown",
      "metadata": {
        "id": "SnCuZzFkOZzt",
        "colab_type": "text"
      },
      "source": [
        "Perfectly Balanced, As all things should be"
      ]
    },
    {
      "cell_type": "code",
      "metadata": {
        "id": "4rDF-Ms9HQOC",
        "colab_type": "code",
        "colab": {
          "base_uri": "https://localhost:8080/",
          "height": 419
        },
        "outputId": "8f5e41b0-6deb-43b6-8881-b5c8b722517d"
      },
      "source": [
        "origin = pd.get_dummies(movies['Origin/Ethnicity'])\n",
        "df1 = pd.concat([movies, origin], axis=1)\n",
        "df1 = df1.drop(columns=['Origin/Ethnicity'])\n",
        "df1"
      ],
      "execution_count": null,
      "outputs": [
        {
          "output_type": "execute_result",
          "data": {
            "text/html": [
              "<div>\n",
              "<style scoped>\n",
              "    .dataframe tbody tr th:only-of-type {\n",
              "        vertical-align: middle;\n",
              "    }\n",
              "\n",
              "    .dataframe tbody tr th {\n",
              "        vertical-align: top;\n",
              "    }\n",
              "\n",
              "    .dataframe thead th {\n",
              "        text-align: right;\n",
              "    }\n",
              "</style>\n",
              "<table border=\"1\" class=\"dataframe\">\n",
              "  <thead>\n",
              "    <tr style=\"text-align: right;\">\n",
              "      <th></th>\n",
              "      <th>Plot</th>\n",
              "      <th>American</th>\n",
              "      <th>Bollywood</th>\n",
              "      <th>British</th>\n",
              "    </tr>\n",
              "  </thead>\n",
              "  <tbody>\n",
              "    <tr>\n",
              "      <th>0</th>\n",
              "      <td>a bartender is working at a saloon, serving dr...</td>\n",
              "      <td>1</td>\n",
              "      <td>0</td>\n",
              "      <td>0</td>\n",
              "    </tr>\n",
              "    <tr>\n",
              "      <th>1</th>\n",
              "      <td>the moon, painted with a smiling face hangs ov...</td>\n",
              "      <td>1</td>\n",
              "      <td>0</td>\n",
              "      <td>0</td>\n",
              "    </tr>\n",
              "    <tr>\n",
              "      <th>2</th>\n",
              "      <td>the film, just over a minute long, is composed...</td>\n",
              "      <td>1</td>\n",
              "      <td>0</td>\n",
              "      <td>0</td>\n",
              "    </tr>\n",
              "    <tr>\n",
              "      <th>3</th>\n",
              "      <td>lasting just 61 seconds and consisting of two ...</td>\n",
              "      <td>1</td>\n",
              "      <td>0</td>\n",
              "      <td>0</td>\n",
              "    </tr>\n",
              "    <tr>\n",
              "      <th>4</th>\n",
              "      <td>the earliest known adaptation of the classic f...</td>\n",
              "      <td>1</td>\n",
              "      <td>0</td>\n",
              "      <td>0</td>\n",
              "    </tr>\n",
              "    <tr>\n",
              "      <th>...</th>\n",
              "      <td>...</td>\n",
              "      <td>...</td>\n",
              "      <td>...</td>\n",
              "      <td>...</td>\n",
              "    </tr>\n",
              "    <tr>\n",
              "      <th>26192</th>\n",
              "      <td>anjali (rimi sen) arrives in mumbai looking fo...</td>\n",
              "      <td>0</td>\n",
              "      <td>1</td>\n",
              "      <td>0</td>\n",
              "    </tr>\n",
              "    <tr>\n",
              "      <th>26193</th>\n",
              "      <td>dil (gurline chopra) is getting engaged to abh...</td>\n",
              "      <td>0</td>\n",
              "      <td>1</td>\n",
              "      <td>0</td>\n",
              "    </tr>\n",
              "    <tr>\n",
              "      <th>26194</th>\n",
              "      <td>nandini and tina are stepsisters and after the...</td>\n",
              "      <td>0</td>\n",
              "      <td>1</td>\n",
              "      <td>0</td>\n",
              "    </tr>\n",
              "    <tr>\n",
              "      <th>26195</th>\n",
              "      <td>rajiv (shahid kapoor) wants to be one of the p...</td>\n",
              "      <td>0</td>\n",
              "      <td>1</td>\n",
              "      <td>0</td>\n",
              "    </tr>\n",
              "    <tr>\n",
              "      <th>26196</th>\n",
              "      <td>aditya is carried to a magical island where he...</td>\n",
              "      <td>0</td>\n",
              "      <td>1</td>\n",
              "      <td>0</td>\n",
              "    </tr>\n",
              "  </tbody>\n",
              "</table>\n",
              "<p>6000 rows × 4 columns</p>\n",
              "</div>"
            ],
            "text/plain": [
              "                                                    Plot  ...  British\n",
              "0      a bartender is working at a saloon, serving dr...  ...        0\n",
              "1      the moon, painted with a smiling face hangs ov...  ...        0\n",
              "2      the film, just over a minute long, is composed...  ...        0\n",
              "3      lasting just 61 seconds and consisting of two ...  ...        0\n",
              "4      the earliest known adaptation of the classic f...  ...        0\n",
              "...                                                  ...  ...      ...\n",
              "26192  anjali (rimi sen) arrives in mumbai looking fo...  ...        0\n",
              "26193  dil (gurline chopra) is getting engaged to abh...  ...        0\n",
              "26194  nandini and tina are stepsisters and after the...  ...        0\n",
              "26195  rajiv (shahid kapoor) wants to be one of the p...  ...        0\n",
              "26196  aditya is carried to a magical island where he...  ...        0\n",
              "\n",
              "[6000 rows x 4 columns]"
            ]
          },
          "metadata": {
            "tags": []
          },
          "execution_count": 19
        }
      ]
    },
    {
      "cell_type": "code",
      "metadata": {
        "id": "Jx_PHgu3Hm1e",
        "colab_type": "code",
        "colab": {}
      },
      "source": [
        "plot = df1['Plot'].values\n",
        "origin = df1[['American', 'British', 'Bollywood']].values"
      ],
      "execution_count": null,
      "outputs": []
    },
    {
      "cell_type": "code",
      "metadata": {
        "id": "QrxJQvN7HyiO",
        "colab_type": "code",
        "colab": {
          "base_uri": "https://localhost:8080/",
          "height": 173
        },
        "outputId": "cdf6dd1f-6e18-43dd-b200-a4682f16a629"
      },
      "source": [
        "plot"
      ],
      "execution_count": null,
      "outputs": [
        {
          "output_type": "execute_result",
          "data": {
            "text/plain": [
              "array(['a bartender is working at a saloon, serving drinks to customers. after he fills a stereotypically irish man  bucket with beer, carrie nation and her followers burst inside. they assault the irish man, pulling his hat over his eyes and then dumping the beer over his head. the group then begin wrecking the bar, smashing the fixtures, mirrors, and breaking the cash register. the bartender then sprays seltzer water in nation  face before a group of policemen appear and order everybody to leave.[1]',\n",
              "       'the moon, painted with a smiling face hangs over a park at night. a young couple walking past a fence learn on a railing and look up. the moon smiles. they embrace, and the moon  smile gets bigger. they then sit down on a bench by a tree. the moon  view is blocked, causing him to frown. in the last scene, the man fans the woman with his hat because the moon has left the sky and is perched over her shoulder to see everything better.',\n",
              "       'the film, just over a minute long, is composed of two shots. in the first, a girl sits at the base of an altar or tomb, her face hidden from the camera. at the center of the altar, a viewing portal displays the portraits of three u.s. presidents—abraham lincoln, james a. garfield, and william mckinley—each victims of assassination.\\r\\nin the second shot, which runs just over eight seconds long, an assassin kneels feet of lady justice.',\n",
              "       ...,\n",
              "       'nandini and tina are stepsisters and after their father  death nandini takes care of tina as her daughter, but tina detests her and falls in love with ranbir, a charming but an enigmatic stranger . nandini is wary initially and warns ranbir to stay away.her curiosity mounting nandini starts making enquiries and ranbir in the meantime senses trouble . the deeper she delves into his past more she is troubled. will she be in time to save her sister  life?',\n",
              "       'rajiv (shahid kapoor) wants to be one of the popular kids of his college. however, due to the lack of a girlfriend, danny (shabhi) and javed (kapil jhaveri) mock him and his best friend mambo. javed and danny plan a trip to alibagh and invite rajiv and mambo only on condition that they come along with girls. rajiv decides to ask payal (amrita rao), his reserved childhood friend to become his girlfriend and tells her that he  in love with her. he does that only for the trip as he does not  believe in love and serious relationships. payal returns her \"feelings\" and agrees, as she has been in love with him since their school days. both of them start spending time with each other and rajiv gets to know that payal really loves him. then comes the time for the trip and by some persuasion, payal is allowed by her father to go. both of them accompany danny, javed and their girlfriends and stay at danny  beach house; however, rajiv  drink is laced by danny and, being intoxicated, he behaves badly with payal. payal realizes that rajiv does not  love her and slaps him. after the midnight picnic incident,danny and javed  girlfriends try to clear misunderstanding by making payal understand that danny was the reason for rajiv  misbehavior at drunken state,so rajiv was not  at fault. rajiv does not  accept her apology and asks her to kiss him in front of everyone. payal refuses saying that she does not  need to prove her love by doing such a cheap act.their relationship falls apart and rajiv challenges that he will  have the most beautiful girlfriend of the college. rajiv  best friend mambo(vishal malhotra),who was in support of rajiv and payal  friendly relation, does not like this and insists that he gets back with payal. but rajiv rebukes him.\\r\\nsoon after, alisha sahay (shenaz treasurywala), a stylish and beautiful girl, starts at spencer college. rajiv is smitten by her and manages to woo her with the help of his friend love guru (yash tonk). meanwhile, mambo and payal become close,mambo tries to cheer her up and be with her always. payal still cares a lot for rajiv and is silently hurt at seeing alisha and rajiv together. nevertheless, she continues to talk to rajiv and wish him a happy birthday. rajiv is taken aback by the fact that it was payal and not alisha who bothered to wish him first, as alisha is busy with her modelling shoot. rajiv starts noticing that payal and mambo are coming close which irks him. rajiv is surprised to find payal at his birthday party in a pub. payal gets emotional and tells him she now thinks that her views about love were wrong and that is why rajiv is so happy with alisha, something which was not with payal. mambo and rajiv come to blows because of payal, and alisha slowly starts disliking payal. the final straw is when alisha sees rajiv and payal talking, and she learns from a mutual friend that they were together before she entered the college. she confronts payal, behaves rudely with her, and accuses her of stealing her boyfriend. mambo tries to defend payal, and alisha puts him off, which infuriates him. rajiv and mambo get into a fist fight. alisha and rajiv leave with everyone accusing him of fighting with his friends. at alisha  flat, rajiv is unable to think of anything else but how payal loved him and he let her go, and how after their break up, she still cared for him, and the recent fight. alisha gets insecure and keeps asking him to profess his love. he,imagining alisha to be payal, hugs her and says \"i love you, payal\".\\r\\nat the farewell party of the college , rajiv apologizes to mambo with a thought that mambo was planning to propose to payal. he then realizes his mistake as payal still loves him and mambo was just being her friend. rajiv tries to apologize to payal but she does not  listen to him. rajiv then takes the mic and publicly apologizes to payal. he tells her he loves her a lot, even though she might not believe him. payal is still angry with him and tells him that doing a drama in front of everyone and proclaiming his love is not going to make her relent. rajiv stands before her and gazes pleadingly into her eyes. payal is convinced that rajiv does love her and embraces him. alisha comes there and finds rajiv and payal dancing on a slow tune. she apologizes to payal for her behavior and wishes them good luck. the movie ends with rajiv and payal  dance.',\n",
              "       'aditya is carried to a magical island where he helps the tiny locals defeat the giant jhamunda.'],\n",
              "      dtype=object)"
            ]
          },
          "metadata": {
            "tags": []
          },
          "execution_count": 21
        }
      ]
    },
    {
      "cell_type": "code",
      "metadata": {
        "id": "7AWVJd4eHz_n",
        "colab_type": "code",
        "colab": {
          "base_uri": "https://localhost:8080/",
          "height": 136
        },
        "outputId": "4695de3c-e1c7-415e-81eb-31dff95afd86"
      },
      "source": [
        "origin"
      ],
      "execution_count": null,
      "outputs": [
        {
          "output_type": "execute_result",
          "data": {
            "text/plain": [
              "array([[1, 0, 0],\n",
              "       [1, 0, 0],\n",
              "       [1, 0, 0],\n",
              "       ...,\n",
              "       [0, 0, 1],\n",
              "       [0, 0, 1],\n",
              "       [0, 0, 1]], dtype=uint8)"
            ]
          },
          "metadata": {
            "tags": []
          },
          "execution_count": 22
        }
      ]
    },
    {
      "cell_type": "code",
      "metadata": {
        "id": "w64OCCAsH4i9",
        "colab_type": "code",
        "colab": {}
      },
      "source": [
        "from sklearn.model_selection import train_test_split\n",
        "plot_train, plot_test, origin_train, origin_test = train_test_split(plot, origin, test_size=0.2, shuffle=True)"
      ],
      "execution_count": null,
      "outputs": []
    },
    {
      "cell_type": "code",
      "metadata": {
        "id": "DMzBQWTTIBFG",
        "colab_type": "code",
        "colab": {}
      },
      "source": [
        "from tensorflow.keras.preprocessing.text import Tokenizer\n",
        "from tensorflow.keras.preprocessing.sequence import pad_sequences\n",
        " \n",
        "tokenizer = Tokenizer(num_words=5000, oov_token='-')\n",
        "tokenizer.fit_on_texts(plot_train) \n",
        "tokenizer.fit_on_texts(plot_test)\n",
        "\t \n",
        "seq_train = tokenizer.texts_to_sequences(plot_train)\n",
        "seq_test = tokenizer.texts_to_sequences(plot_test)\n",
        "\t \n",
        "padded_train = pad_sequences(seq_train, padding='post', maxlen=256,truncating='post') \n",
        "padded_test = pad_sequences(seq_test, padding='post',maxlen=256,truncating='post')\n",
        "\n",
        "word_to_index = tokenizer.word_index"
      ],
      "execution_count": null,
      "outputs": []
    },
    {
      "cell_type": "code",
      "metadata": {
        "id": "o3eu2RJDIOl7",
        "colab_type": "code",
        "colab": {
          "base_uri": "https://localhost:8080/",
          "height": 34
        },
        "outputId": "a393dd89-2e9c-4c03-cfd5-b98f4e2ca471"
      },
      "source": [
        "padded_test.shape, origin_test.shape"
      ],
      "execution_count": null,
      "outputs": [
        {
          "output_type": "execute_result",
          "data": {
            "text/plain": [
              "((1200, 256), (1200, 3))"
            ]
          },
          "metadata": {
            "tags": []
          },
          "execution_count": 26
        }
      ]
    },
    {
      "cell_type": "code",
      "metadata": {
        "id": "vk32S3GvIUSz",
        "colab_type": "code",
        "colab": {
          "base_uri": "https://localhost:8080/",
          "height": 34
        },
        "outputId": "290f1ced-c273-4ce0-f87f-b95217425123"
      },
      "source": [
        "padded_train.shape, origin_train.shape"
      ],
      "execution_count": null,
      "outputs": [
        {
          "output_type": "execute_result",
          "data": {
            "text/plain": [
              "((4800, 256), (4800, 3))"
            ]
          },
          "metadata": {
            "tags": []
          },
          "execution_count": 27
        }
      ]
    },
    {
      "cell_type": "code",
      "metadata": {
        "id": "c5zN8VKGIXxY",
        "colab_type": "code",
        "colab": {
          "base_uri": "https://localhost:8080/",
          "height": 391
        },
        "outputId": "7a7d3719-481e-41fc-9576-b3a27bafc703"
      },
      "source": [
        "import tensorflow as tf\n",
        "\n",
        "model = tf.keras.Sequential([\n",
        "    tf.keras.layers.Embedding(input_dim=5000, output_dim=32),\n",
        "    tf.keras.layers.LSTM(128),\n",
        "    tf.keras.layers.Dropout(0.2),\n",
        "    tf.keras.layers.Dense(128, activation='relu'),\n",
        "    tf.keras.layers.Dense(64, activation='relu'),\n",
        "    tf.keras.layers.Dense(32, activation='relu'),\n",
        "    tf.keras.layers.Dense(3, activation='softmax')\n",
        "])\n",
        "\n",
        "model.summary()"
      ],
      "execution_count": null,
      "outputs": [
        {
          "output_type": "stream",
          "text": [
            "Model: \"sequential\"\n",
            "_________________________________________________________________\n",
            "Layer (type)                 Output Shape              Param #   \n",
            "=================================================================\n",
            "embedding (Embedding)        (None, None, 32)          160000    \n",
            "_________________________________________________________________\n",
            "lstm (LSTM)                  (None, 128)               82432     \n",
            "_________________________________________________________________\n",
            "dropout (Dropout)            (None, 128)               0         \n",
            "_________________________________________________________________\n",
            "dense (Dense)                (None, 128)               16512     \n",
            "_________________________________________________________________\n",
            "dense_1 (Dense)              (None, 64)                8256      \n",
            "_________________________________________________________________\n",
            "dense_2 (Dense)              (None, 32)                2080      \n",
            "_________________________________________________________________\n",
            "dense_3 (Dense)              (None, 3)                 99        \n",
            "=================================================================\n",
            "Total params: 269,379\n",
            "Trainable params: 269,379\n",
            "Non-trainable params: 0\n",
            "_________________________________________________________________\n"
          ],
          "name": "stdout"
        }
      ]
    },
    {
      "cell_type": "code",
      "metadata": {
        "id": "7Fjm3MMsIdDB",
        "colab_type": "code",
        "colab": {}
      },
      "source": [
        "model.compile(loss = 'categorical_crossentropy',\n",
        "              optimizer = 'Adam',\n",
        "              metrics=['accuracy'])"
      ],
      "execution_count": null,
      "outputs": []
    },
    {
      "cell_type": "code",
      "metadata": {
        "id": "c3EkZ3nsIjkO",
        "colab_type": "code",
        "colab": {}
      },
      "source": [
        "from keras.callbacks import EarlyStopping\n",
        "\n",
        "early_stopping_monitor = EarlyStopping(monitor = 'val_loss',\n",
        "                          min_delta = 0,\n",
        "                          patience = 8,\n",
        "                          verbose = 1,\n",
        "                          restore_best_weights = True)"
      ],
      "execution_count": null,
      "outputs": []
    },
    {
      "cell_type": "code",
      "metadata": {
        "id": "Kruiv1cwImrX",
        "colab_type": "code",
        "colab": {
          "base_uri": "https://localhost:8080/",
          "height": 1000
        },
        "outputId": "d10bca94-7f43-4cea-b764-ef3ac9aaed86"
      },
      "source": [
        "hist = model.fit(padded_train,origin_train,steps_per_epoch=25,epochs=50,validation_data=(padded_test, origin_test),validation_steps=5,verbose=1)"
      ],
      "execution_count": null,
      "outputs": [
        {
          "output_type": "stream",
          "text": [
            "Epoch 1/50\n",
            "25/25 [==============================] - 23s 939ms/step - loss: 1.0988 - accuracy: 0.3354 - val_loss: 1.0995 - val_accuracy: 0.3217\n",
            "Epoch 2/50\n",
            "25/25 [==============================] - 24s 957ms/step - loss: 1.0939 - accuracy: 0.3669 - val_loss: 1.0937 - val_accuracy: 0.3675\n",
            "Epoch 3/50\n",
            "25/25 [==============================] - 24s 942ms/step - loss: 1.0737 - accuracy: 0.4212 - val_loss: 0.8362 - val_accuracy: 0.5833\n",
            "Epoch 4/50\n",
            "25/25 [==============================] - 23s 925ms/step - loss: 1.0294 - accuracy: 0.4815 - val_loss: 0.8847 - val_accuracy: 0.6167\n",
            "Epoch 5/50\n",
            "25/25 [==============================] - 23s 919ms/step - loss: 0.8385 - accuracy: 0.5750 - val_loss: 1.0192 - val_accuracy: 0.4583\n",
            "Epoch 6/50\n",
            "25/25 [==============================] - 23s 909ms/step - loss: 0.9165 - accuracy: 0.5458 - val_loss: 0.8154 - val_accuracy: 0.5700\n",
            "Epoch 7/50\n",
            "25/25 [==============================] - 23s 911ms/step - loss: 0.8194 - accuracy: 0.5869 - val_loss: 0.8638 - val_accuracy: 0.5467\n",
            "Epoch 8/50\n",
            "25/25 [==============================] - 23s 912ms/step - loss: 0.8917 - accuracy: 0.5437 - val_loss: 0.8861 - val_accuracy: 0.5242\n",
            "Epoch 9/50\n",
            "25/25 [==============================] - 23s 907ms/step - loss: 0.8937 - accuracy: 0.5362 - val_loss: 0.8882 - val_accuracy: 0.5475\n",
            "Epoch 10/50\n",
            "25/25 [==============================] - 23s 918ms/step - loss: 0.8916 - accuracy: 0.5371 - val_loss: 0.8855 - val_accuracy: 0.5233\n",
            "Epoch 11/50\n",
            "25/25 [==============================] - 23s 911ms/step - loss: 0.8881 - accuracy: 0.5381 - val_loss: 0.8816 - val_accuracy: 0.5508\n",
            "Epoch 12/50\n",
            "25/25 [==============================] - 23s 918ms/step - loss: 0.8834 - accuracy: 0.5396 - val_loss: 0.8830 - val_accuracy: 0.5233\n",
            "Epoch 13/50\n",
            "25/25 [==============================] - 23s 921ms/step - loss: 0.8790 - accuracy: 0.5433 - val_loss: 0.8782 - val_accuracy: 0.5233\n",
            "Epoch 14/50\n",
            "25/25 [==============================] - 23s 918ms/step - loss: 0.8763 - accuracy: 0.5442 - val_loss: 0.8740 - val_accuracy: 0.5258\n",
            "Epoch 15/50\n",
            "25/25 [==============================] - 23s 939ms/step - loss: 0.8703 - accuracy: 0.5406 - val_loss: 0.8654 - val_accuracy: 0.5267\n",
            "Epoch 16/50\n",
            "25/25 [==============================] - 24s 953ms/step - loss: 0.8588 - accuracy: 0.5521 - val_loss: 0.8460 - val_accuracy: 0.5642\n",
            "Epoch 17/50\n",
            "25/25 [==============================] - 23s 918ms/step - loss: 0.8522 - accuracy: 0.5473 - val_loss: 0.8388 - val_accuracy: 0.5675\n",
            "Epoch 18/50\n",
            "25/25 [==============================] - 23s 919ms/step - loss: 0.8525 - accuracy: 0.5442 - val_loss: 0.8500 - val_accuracy: 0.5317\n",
            "Epoch 19/50\n",
            "25/25 [==============================] - 23s 920ms/step - loss: 0.8444 - accuracy: 0.5512 - val_loss: 0.8456 - val_accuracy: 0.5333\n",
            "Epoch 20/50\n",
            "25/25 [==============================] - 23s 911ms/step - loss: 0.8453 - accuracy: 0.5367 - val_loss: 0.8561 - val_accuracy: 0.5175\n",
            "Epoch 21/50\n",
            "25/25 [==============================] - 23s 921ms/step - loss: 0.8310 - accuracy: 0.5550 - val_loss: 0.8302 - val_accuracy: 0.5325\n",
            "Epoch 22/50\n",
            "25/25 [==============================] - 23s 904ms/step - loss: 1.1007 - accuracy: 0.5294 - val_loss: 0.9528 - val_accuracy: 0.5258\n",
            "Epoch 23/50\n",
            "25/25 [==============================] - 23s 916ms/step - loss: 0.9687 - accuracy: 0.5031 - val_loss: 0.9611 - val_accuracy: 0.5142\n",
            "Epoch 24/50\n",
            "25/25 [==============================] - 23s 915ms/step - loss: 0.9658 - accuracy: 0.4917 - val_loss: 0.9659 - val_accuracy: 0.4817\n",
            "Epoch 25/50\n",
            "25/25 [==============================] - 23s 912ms/step - loss: 0.9665 - accuracy: 0.4994 - val_loss: 0.9670 - val_accuracy: 0.4817\n",
            "Epoch 26/50\n",
            "25/25 [==============================] - 23s 917ms/step - loss: 0.9627 - accuracy: 0.4994 - val_loss: 0.9547 - val_accuracy: 0.5158\n",
            "Epoch 27/50\n",
            "25/25 [==============================] - 23s 915ms/step - loss: 0.9561 - accuracy: 0.4965 - val_loss: 0.9516 - val_accuracy: 0.5175\n",
            "Epoch 28/50\n",
            "25/25 [==============================] - 23s 930ms/step - loss: 0.9362 - accuracy: 0.4985 - val_loss: 0.9155 - val_accuracy: 0.5283\n",
            "Epoch 29/50\n",
            "25/25 [==============================] - 23s 928ms/step - loss: 0.9107 - accuracy: 0.5090 - val_loss: 0.8948 - val_accuracy: 0.4925\n",
            "Epoch 30/50\n",
            "25/25 [==============================] - 24s 945ms/step - loss: 0.9017 - accuracy: 0.5140 - val_loss: 0.8500 - val_accuracy: 0.5608\n",
            "Epoch 31/50\n",
            "25/25 [==============================] - 23s 921ms/step - loss: 0.9334 - accuracy: 0.5417 - val_loss: 0.9470 - val_accuracy: 0.5283\n",
            "Epoch 32/50\n",
            "25/25 [==============================] - 23s 921ms/step - loss: 0.8767 - accuracy: 0.5604 - val_loss: 0.8189 - val_accuracy: 0.5900\n",
            "Epoch 33/50\n",
            "25/25 [==============================] - 23s 919ms/step - loss: 0.8546 - accuracy: 0.5738 - val_loss: 0.9450 - val_accuracy: 0.5033\n",
            "Epoch 34/50\n",
            "25/25 [==============================] - 23s 915ms/step - loss: 0.8997 - accuracy: 0.5410 - val_loss: 0.9233 - val_accuracy: 0.5192\n",
            "Epoch 35/50\n",
            "25/25 [==============================] - 23s 916ms/step - loss: 0.7862 - accuracy: 0.5898 - val_loss: 0.7807 - val_accuracy: 0.5842\n",
            "Epoch 36/50\n",
            "25/25 [==============================] - 23s 916ms/step - loss: 0.7177 - accuracy: 0.6302 - val_loss: 0.7850 - val_accuracy: 0.5908\n",
            "Epoch 37/50\n",
            "25/25 [==============================] - 23s 912ms/step - loss: 0.7116 - accuracy: 0.6367 - val_loss: 0.7711 - val_accuracy: 0.5883\n",
            "Epoch 38/50\n",
            "25/25 [==============================] - 23s 918ms/step - loss: 0.7005 - accuracy: 0.6419 - val_loss: 0.7745 - val_accuracy: 0.5900\n",
            "Epoch 39/50\n",
            "25/25 [==============================] - 23s 913ms/step - loss: 1.0560 - accuracy: 0.4975 - val_loss: 0.9079 - val_accuracy: 0.5467\n",
            "Epoch 40/50\n",
            "25/25 [==============================] - 23s 914ms/step - loss: 0.8329 - accuracy: 0.5883 - val_loss: 0.8307 - val_accuracy: 0.5833\n",
            "Epoch 41/50\n",
            "25/25 [==============================] - 23s 925ms/step - loss: 0.8564 - accuracy: 0.5575 - val_loss: 0.8915 - val_accuracy: 0.5400\n",
            "Epoch 42/50\n",
            "25/25 [==============================] - 23s 910ms/step - loss: 0.7771 - accuracy: 0.6185 - val_loss: 0.8980 - val_accuracy: 0.5500\n",
            "Epoch 43/50\n",
            "25/25 [==============================] - 23s 940ms/step - loss: 0.8073 - accuracy: 0.5979 - val_loss: 1.3959 - val_accuracy: 0.4000\n",
            "Epoch 44/50\n",
            "25/25 [==============================] - 23s 907ms/step - loss: 0.9695 - accuracy: 0.4933 - val_loss: 0.9778 - val_accuracy: 0.4525\n",
            "Epoch 45/50\n",
            "25/25 [==============================] - 23s 915ms/step - loss: 0.9432 - accuracy: 0.5412 - val_loss: 0.9150 - val_accuracy: 0.5800\n",
            "Epoch 46/50\n",
            "25/25 [==============================] - 23s 914ms/step - loss: 0.8016 - accuracy: 0.5863 - val_loss: 0.8489 - val_accuracy: 0.5875\n",
            "Epoch 47/50\n",
            "25/25 [==============================] - 23s 915ms/step - loss: 0.9271 - accuracy: 0.5348 - val_loss: 0.8648 - val_accuracy: 0.5933\n",
            "Epoch 48/50\n",
            "21/25 [========================>.....] - ETA: 3s - loss: 0.8381 - accuracy: 0.5737"
          ],
          "name": "stdout"
        }
      ]
    }
  ]
}