{
  "nbformat": 4,
  "nbformat_minor": 0,
  "metadata": {
    "colab": {
      "name": "MulticlassTextClassification.ipynb",
      "provenance": [],
      "authorship_tag": "ABX9TyMzL1MfpwdpmiRC7FUObdOh",
      "include_colab_link": true
    },
    "kernelspec": {
      "name": "python3",
      "display_name": "Python 3"
    }
  },
  "cells": [
    {
      "cell_type": "markdown",
      "metadata": {
        "id": "view-in-github",
        "colab_type": "text"
      },
      "source": [
        "<a href=\"https://colab.research.google.com/github/ahmadbadawikr/DS_and_ML/blob/master/MulticlassTextClassification.ipynb\" target=\"_parent\"><img src=\"https://colab.research.google.com/assets/colab-badge.svg\" alt=\"Open In Colab\"/></a>"
      ]
    },
    {
      "cell_type": "code",
      "metadata": {
        "id": "LaebNL7-RPWp",
        "colab_type": "code",
        "colab": {}
      },
      "source": [
        "import pandas as pd\n",
        "df = pd.read_csv('imdb_indonesian_movies_2.csv')\n",
        "df = df.drop(columns=['judul_film'])"
      ],
      "execution_count": null,
      "outputs": []
    },
    {
      "cell_type": "code",
      "metadata": {
        "id": "BNU-KeDyUDUk",
        "colab_type": "code",
        "colab": {
          "base_uri": "https://localhost:8080/",
          "height": 204
        },
        "outputId": "7c0603c0-d973-43ff-9e3e-db47c437b85c"
      },
      "source": [
        "df.head()"
      ],
      "execution_count": null,
      "outputs": [
        {
          "output_type": "execute_result",
          "data": {
            "text/html": [
              "<div>\n",
              "<style scoped>\n",
              "    .dataframe tbody tr th:only-of-type {\n",
              "        vertical-align: middle;\n",
              "    }\n",
              "\n",
              "    .dataframe tbody tr th {\n",
              "        vertical-align: top;\n",
              "    }\n",
              "\n",
              "    .dataframe thead th {\n",
              "        text-align: right;\n",
              "    }\n",
              "</style>\n",
              "<table border=\"1\" class=\"dataframe\">\n",
              "  <thead>\n",
              "    <tr style=\"text-align: right;\">\n",
              "      <th></th>\n",
              "      <th>ringkasan_sinopsis</th>\n",
              "      <th>genre</th>\n",
              "    </tr>\n",
              "  </thead>\n",
              "  <tbody>\n",
              "    <tr>\n",
              "      <th>0</th>\n",
              "      <td>Raden Mas Said putra sulung Tumenggung Wilarik...</td>\n",
              "      <td>Drama</td>\n",
              "    </tr>\n",
              "    <tr>\n",
              "      <th>1</th>\n",
              "      <td>Soe Hok Gie adalah seorang aktivis yang hidup ...</td>\n",
              "      <td>Drama</td>\n",
              "    </tr>\n",
              "    <tr>\n",
              "      <th>2</th>\n",
              "      <td>Guru Bangsa Tjokroaminoto menceritakan tentang...</td>\n",
              "      <td>Drama</td>\n",
              "    </tr>\n",
              "    <tr>\n",
              "      <th>3</th>\n",
              "      <td>POL menceritakan kisah hidup yang luar biasa d...</td>\n",
              "      <td>Drama</td>\n",
              "    </tr>\n",
              "    <tr>\n",
              "      <th>4</th>\n",
              "      <td>Perjalanan pahlawan Indonesia KH Ahmad Dahlan ...</td>\n",
              "      <td>Drama</td>\n",
              "    </tr>\n",
              "  </tbody>\n",
              "</table>\n",
              "</div>"
            ],
            "text/plain": [
              "                                  ringkasan_sinopsis  genre\n",
              "0  Raden Mas Said putra sulung Tumenggung Wilarik...  Drama\n",
              "1  Soe Hok Gie adalah seorang aktivis yang hidup ...  Drama\n",
              "2  Guru Bangsa Tjokroaminoto menceritakan tentang...  Drama\n",
              "3  POL menceritakan kisah hidup yang luar biasa d...  Drama\n",
              "4  Perjalanan pahlawan Indonesia KH Ahmad Dahlan ...  Drama"
            ]
          },
          "metadata": {
            "tags": []
          },
          "execution_count": 2
        }
      ]
    },
    {
      "cell_type": "code",
      "metadata": {
        "id": "CRtnkc_PUGJx",
        "colab_type": "code",
        "colab": {
          "base_uri": "https://localhost:8080/",
          "height": 419
        },
        "outputId": "cc41d8a1-8cdf-418a-e5c8-728f9564b448"
      },
      "source": [
        "category = pd.get_dummies(df.genre)\n",
        "df_new = pd.concat([df, category], axis=1)\n",
        "df_new = df_new.drop(columns='genre')\n",
        "df_new"
      ],
      "execution_count": null,
      "outputs": [
        {
          "output_type": "execute_result",
          "data": {
            "text/html": [
              "<div>\n",
              "<style scoped>\n",
              "    .dataframe tbody tr th:only-of-type {\n",
              "        vertical-align: middle;\n",
              "    }\n",
              "\n",
              "    .dataframe tbody tr th {\n",
              "        vertical-align: top;\n",
              "    }\n",
              "\n",
              "    .dataframe thead th {\n",
              "        text-align: right;\n",
              "    }\n",
              "</style>\n",
              "<table border=\"1\" class=\"dataframe\">\n",
              "  <thead>\n",
              "    <tr style=\"text-align: right;\">\n",
              "      <th></th>\n",
              "      <th>ringkasan_sinopsis</th>\n",
              "      <th>Drama</th>\n",
              "      <th>Horor</th>\n",
              "      <th>Komedi</th>\n",
              "      <th>Laga</th>\n",
              "      <th>Romantis</th>\n",
              "    </tr>\n",
              "  </thead>\n",
              "  <tbody>\n",
              "    <tr>\n",
              "      <th>0</th>\n",
              "      <td>Raden Mas Said putra sulung Tumenggung Wilarik...</td>\n",
              "      <td>1</td>\n",
              "      <td>0</td>\n",
              "      <td>0</td>\n",
              "      <td>0</td>\n",
              "      <td>0</td>\n",
              "    </tr>\n",
              "    <tr>\n",
              "      <th>1</th>\n",
              "      <td>Soe Hok Gie adalah seorang aktivis yang hidup ...</td>\n",
              "      <td>1</td>\n",
              "      <td>0</td>\n",
              "      <td>0</td>\n",
              "      <td>0</td>\n",
              "      <td>0</td>\n",
              "    </tr>\n",
              "    <tr>\n",
              "      <th>2</th>\n",
              "      <td>Guru Bangsa Tjokroaminoto menceritakan tentang...</td>\n",
              "      <td>1</td>\n",
              "      <td>0</td>\n",
              "      <td>0</td>\n",
              "      <td>0</td>\n",
              "      <td>0</td>\n",
              "    </tr>\n",
              "    <tr>\n",
              "      <th>3</th>\n",
              "      <td>POL menceritakan kisah hidup yang luar biasa d...</td>\n",
              "      <td>1</td>\n",
              "      <td>0</td>\n",
              "      <td>0</td>\n",
              "      <td>0</td>\n",
              "      <td>0</td>\n",
              "    </tr>\n",
              "    <tr>\n",
              "      <th>4</th>\n",
              "      <td>Perjalanan pahlawan Indonesia KH Ahmad Dahlan ...</td>\n",
              "      <td>1</td>\n",
              "      <td>0</td>\n",
              "      <td>0</td>\n",
              "      <td>0</td>\n",
              "      <td>0</td>\n",
              "    </tr>\n",
              "    <tr>\n",
              "      <th>...</th>\n",
              "      <td>...</td>\n",
              "      <td>...</td>\n",
              "      <td>...</td>\n",
              "      <td>...</td>\n",
              "      <td>...</td>\n",
              "      <td>...</td>\n",
              "    </tr>\n",
              "    <tr>\n",
              "      <th>1000</th>\n",
              "      <td>Winter in Tokyo berpusat pada kehidupan Ishida...</td>\n",
              "      <td>0</td>\n",
              "      <td>0</td>\n",
              "      <td>0</td>\n",
              "      <td>0</td>\n",
              "      <td>1</td>\n",
              "    </tr>\n",
              "    <tr>\n",
              "      <th>1001</th>\n",
              "      <td>Markonah melarikan diri ke Jakarta karena akan...</td>\n",
              "      <td>0</td>\n",
              "      <td>0</td>\n",
              "      <td>0</td>\n",
              "      <td>0</td>\n",
              "      <td>1</td>\n",
              "    </tr>\n",
              "    <tr>\n",
              "      <th>1002</th>\n",
              "      <td>Tempat aking lebih dari 36 jam, Last Night ada...</td>\n",
              "      <td>0</td>\n",
              "      <td>0</td>\n",
              "      <td>0</td>\n",
              "      <td>0</td>\n",
              "      <td>1</td>\n",
              "    </tr>\n",
              "    <tr>\n",
              "      <th>1003</th>\n",
              "      <td>Proyek baru ini adalah tentang seorang lelaki ...</td>\n",
              "      <td>0</td>\n",
              "      <td>0</td>\n",
              "      <td>0</td>\n",
              "      <td>0</td>\n",
              "      <td>1</td>\n",
              "    </tr>\n",
              "    <tr>\n",
              "      <th>1004</th>\n",
              "      <td>Atika (Meriam Bellina) mantan penyanyi tenar, ...</td>\n",
              "      <td>0</td>\n",
              "      <td>0</td>\n",
              "      <td>0</td>\n",
              "      <td>0</td>\n",
              "      <td>1</td>\n",
              "    </tr>\n",
              "  </tbody>\n",
              "</table>\n",
              "<p>1005 rows × 6 columns</p>\n",
              "</div>"
            ],
            "text/plain": [
              "                                     ringkasan_sinopsis  Drama  ...  Laga  Romantis\n",
              "0     Raden Mas Said putra sulung Tumenggung Wilarik...      1  ...     0         0\n",
              "1     Soe Hok Gie adalah seorang aktivis yang hidup ...      1  ...     0         0\n",
              "2     Guru Bangsa Tjokroaminoto menceritakan tentang...      1  ...     0         0\n",
              "3     POL menceritakan kisah hidup yang luar biasa d...      1  ...     0         0\n",
              "4     Perjalanan pahlawan Indonesia KH Ahmad Dahlan ...      1  ...     0         0\n",
              "...                                                 ...    ...  ...   ...       ...\n",
              "1000  Winter in Tokyo berpusat pada kehidupan Ishida...      0  ...     0         1\n",
              "1001  Markonah melarikan diri ke Jakarta karena akan...      0  ...     0         1\n",
              "1002  Tempat aking lebih dari 36 jam, Last Night ada...      0  ...     0         1\n",
              "1003  Proyek baru ini adalah tentang seorang lelaki ...      0  ...     0         1\n",
              "1004  Atika (Meriam Bellina) mantan penyanyi tenar, ...      0  ...     0         1\n",
              "\n",
              "[1005 rows x 6 columns]"
            ]
          },
          "metadata": {
            "tags": []
          },
          "execution_count": 4
        }
      ]
    },
    {
      "cell_type": "code",
      "metadata": {
        "id": "9sh5F5_bX0c-",
        "colab_type": "code",
        "colab": {}
      },
      "source": [
        "synopsis = df_new['ringkasan_sinopsis'].values\n",
        "label = df_new[['Drama', 'Horor', 'Komedi', 'Laga', 'Romantis']].values\n"
      ],
      "execution_count": null,
      "outputs": []
    },
    {
      "cell_type": "code",
      "metadata": {
        "id": "MDRSeTzEYGZJ",
        "colab_type": "code",
        "colab": {}
      },
      "source": [
        "from sklearn.model_selection import train_test_split\n",
        "syn_train, syn_test, label_train, label_test = train_test_split(synopsis, label, test_size=0.2)"
      ],
      "execution_count": null,
      "outputs": []
    },
    {
      "cell_type": "code",
      "metadata": {
        "id": "H0OFLvVKYbu5",
        "colab_type": "code",
        "colab": {}
      },
      "source": [
        "from tensorflow.keras.preprocessing.text import Tokenizer\n",
        "from tensorflow.keras.preprocessing.sequence import pad_sequences\n",
        "\n",
        "tokenizer = Tokenizer(num_words=5000, oov_token='-')\n",
        "tokenizer.fit_on_texts(syn_train) \n",
        "tokenizer.fit_on_texts(syn_test)\n",
        "\n",
        "seq_train = tokenizer.texts_to_sequences(syn_train)\n",
        "seq_test = tokenizer.texts_to_sequences(syn_test)\n",
        "\n",
        "pad_train = pad_sequences(seq_train)\n",
        "pad_test = pad_sequences(seq_test)"
      ],
      "execution_count": null,
      "outputs": []
    },
    {
      "cell_type": "code",
      "metadata": {
        "id": "0zCucMB-Y1Ni",
        "colab_type": "code",
        "colab": {}
      },
      "source": [
        "import tensorflow as tf\n",
        "model = tf.keras.Sequential([\n",
        "                             tf.keras.layers.Embedding(input_dim=5000, output_dim=16),\n",
        "                             tf.keras.layers.LSTM(64),\n",
        "                             tf.keras.layers.Dense(128, activation='relu'),\n",
        "                             tf.keras.layers.Dense(64, activation='relu'),\n",
        "                             tf.keras.layers.Dense(5, activation='softmax')\n",
        "])\n",
        "model.compile(loss='categorical_crossentropy', optimizer='adam', metrics=['accuracy'])"
      ],
      "execution_count": null,
      "outputs": []
    },
    {
      "cell_type": "code",
      "metadata": {
        "id": "fvwVrrNQZgk1",
        "colab_type": "code",
        "colab": {
          "base_uri": "https://localhost:8080/",
          "height": 1000
        },
        "outputId": "fdd2265f-e8cc-4e55-b204-199181602274"
      },
      "source": [
        "num_epochs = 30\n",
        "history = model.fit(pad_train, label_train, epochs=num_epochs, \n",
        "                    validation_data=(pad_test, label_test), verbose=2)\n"
      ],
      "execution_count": null,
      "outputs": [
        {
          "output_type": "stream",
          "text": [
            "Epoch 1/30\n",
            "26/26 - 26s - loss: 1.6101 - accuracy: 0.1803 - val_loss: 1.6098 - val_accuracy: 0.2040\n",
            "Epoch 2/30\n",
            "26/26 - 28s - loss: 1.6060 - accuracy: 0.2164 - val_loss: 1.6078 - val_accuracy: 0.1791\n",
            "Epoch 3/30\n",
            "26/26 - 28s - loss: 1.5792 - accuracy: 0.3371 - val_loss: 1.5891 - val_accuracy: 0.3234\n",
            "Epoch 4/30\n",
            "26/26 - 27s - loss: 1.3518 - accuracy: 0.4502 - val_loss: 1.5873 - val_accuracy: 0.2836\n",
            "Epoch 5/30\n",
            "26/26 - 27s - loss: 1.0429 - accuracy: 0.5759 - val_loss: 1.9038 - val_accuracy: 0.2637\n",
            "Epoch 6/30\n",
            "26/26 - 29s - loss: 0.7956 - accuracy: 0.7139 - val_loss: 2.1233 - val_accuracy: 0.2786\n",
            "Epoch 7/30\n",
            "26/26 - 28s - loss: 0.5010 - accuracy: 0.8308 - val_loss: 2.9538 - val_accuracy: 0.2736\n",
            "Epoch 8/30\n",
            "26/26 - 28s - loss: 0.2413 - accuracy: 0.9378 - val_loss: 3.1712 - val_accuracy: 0.2736\n",
            "Epoch 9/30\n",
            "26/26 - 27s - loss: 0.1644 - accuracy: 0.9527 - val_loss: 3.4416 - val_accuracy: 0.3035\n",
            "Epoch 10/30\n",
            "26/26 - 28s - loss: 0.1560 - accuracy: 0.9540 - val_loss: 5.8595 - val_accuracy: 0.3184\n",
            "Epoch 11/30\n",
            "26/26 - 27s - loss: 0.1579 - accuracy: 0.9639 - val_loss: 3.2385 - val_accuracy: 0.2935\n",
            "Epoch 12/30\n",
            "26/26 - 28s - loss: 0.0518 - accuracy: 0.9863 - val_loss: 3.8263 - val_accuracy: 0.2935\n",
            "Epoch 13/30\n",
            "26/26 - 28s - loss: 0.0200 - accuracy: 0.9950 - val_loss: 4.2600 - val_accuracy: 0.2836\n",
            "Epoch 14/30\n",
            "26/26 - 28s - loss: 0.0187 - accuracy: 0.9938 - val_loss: 4.4824 - val_accuracy: 0.2836\n",
            "Epoch 15/30\n",
            "26/26 - 28s - loss: 0.0086 - accuracy: 0.9988 - val_loss: 4.8495 - val_accuracy: 0.2687\n",
            "Epoch 16/30\n",
            "26/26 - 27s - loss: 0.0091 - accuracy: 0.9988 - val_loss: 4.7073 - val_accuracy: 0.3134\n",
            "Epoch 17/30\n",
            "26/26 - 27s - loss: 0.0088 - accuracy: 0.9988 - val_loss: 5.0657 - val_accuracy: 0.2637\n",
            "Epoch 18/30\n",
            "26/26 - 30s - loss: 0.0059 - accuracy: 0.9988 - val_loss: 5.0227 - val_accuracy: 0.3085\n",
            "Epoch 19/30\n",
            "26/26 - 28s - loss: 0.0066 - accuracy: 0.9988 - val_loss: 5.1788 - val_accuracy: 0.2736\n",
            "Epoch 20/30\n",
            "26/26 - 27s - loss: 0.0072 - accuracy: 0.9975 - val_loss: 5.1671 - val_accuracy: 0.2935\n",
            "Epoch 21/30\n",
            "26/26 - 27s - loss: 0.0053 - accuracy: 0.9988 - val_loss: 5.3233 - val_accuracy: 0.2786\n",
            "Epoch 22/30\n",
            "26/26 - 28s - loss: 0.0052 - accuracy: 0.9988 - val_loss: 5.3046 - val_accuracy: 0.3035\n",
            "Epoch 23/30\n",
            "26/26 - 27s - loss: 0.0059 - accuracy: 0.9975 - val_loss: 5.3492 - val_accuracy: 0.3085\n",
            "Epoch 24/30\n",
            "26/26 - 27s - loss: 0.0037 - accuracy: 0.9975 - val_loss: 5.3980 - val_accuracy: 0.3035\n",
            "Epoch 25/30\n",
            "26/26 - 27s - loss: 0.0040 - accuracy: 0.9975 - val_loss: 5.6218 - val_accuracy: 0.2786\n",
            "Epoch 26/30\n",
            "26/26 - 28s - loss: 0.0030 - accuracy: 0.9975 - val_loss: 5.6637 - val_accuracy: 0.3035\n",
            "Epoch 27/30\n",
            "26/26 - 27s - loss: 0.0041 - accuracy: 0.9988 - val_loss: 5.8622 - val_accuracy: 0.2786\n",
            "Epoch 28/30\n",
            "26/26 - 28s - loss: 0.0039 - accuracy: 0.9988 - val_loss: 5.7741 - val_accuracy: 0.2985\n",
            "Epoch 29/30\n",
            "26/26 - 28s - loss: 0.0030 - accuracy: 0.9975 - val_loss: 5.8745 - val_accuracy: 0.2985\n",
            "Epoch 30/30\n",
            "26/26 - 28s - loss: 0.0038 - accuracy: 0.9975 - val_loss: 5.8861 - val_accuracy: 0.3035\n"
          ],
          "name": "stdout"
        }
      ]
    },
    {
      "cell_type": "code",
      "metadata": {
        "id": "RDV2ET6udDV1",
        "colab_type": "code",
        "colab": {
          "base_uri": "https://localhost:8080/",
          "height": 295
        },
        "outputId": "9a6dd424-1c95-40bf-f261-295f9c4a0df9"
      },
      "source": [
        "import matplotlib.pyplot as plt\n",
        "\n",
        "#Visualize the model accuracy\n",
        "plt.plot(history.history['accuracy'])\n",
        "plt.plot(history.history['val_accuracy'])\n",
        "plt.title('Model Accuracy')\n",
        "plt.ylabel('Accuracy')\n",
        "plt.xlabel('Epoch')\n",
        "plt.legend(['Train', 'Val'], loc='upper left')\n",
        "plt.show()"
      ],
      "execution_count": null,
      "outputs": [
        {
          "output_type": "display_data",
          "data": {
            "image/png": "[encoded data removed]",
            "text/plain": [
              "<Figure size 432x288 with 1 Axes>"
            ]
          },
          "metadata": {
            "tags": [],
            "needs_background": "light"
          }
        }
      ]
    },
    {
      "cell_type": "code",
      "metadata": {
        "id": "Tj73WBIrdW1Q",
        "colab_type": "code",
        "colab": {
          "base_uri": "https://localhost:8080/",
          "height": 295
        },
        "outputId": "740eedab-e15e-4298-b74d-a469919ccc4d"
      },
      "source": [
        "#Visualize the model loss\n",
        "plt.plot(history.history['loss'])\n",
        "plt.plot(history.history['val_loss'])\n",
        "plt.title('Model Loss')\n",
        "plt.ylabel('Loss')\n",
        "plt.xlabel('Epoch')\n",
        "plt.legend(['Train', 'Val'], loc='upper right')\n",
        "plt.show()\n"
      ],
      "execution_count": null,
      "outputs": [
        {
          "output_type": "display_data",
          "data": {
            "image/png": "[encoded data removed]",
            "text/plain": [
              "<Figure size 432x288 with 1 Axes>"
            ]
          },
          "metadata": {
            "tags": [],
            "needs_background": "light"
          }
        }
      ]
    }
  ]
}