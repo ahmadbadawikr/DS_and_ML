{
  "nbformat": 4,
  "nbformat_minor": 0,
  "metadata": {
    "colab": {
      "name": "NLP_Tokenization.ipynb",
      "provenance": [],
      "authorship_tag": "ABX9TyOe55XgtZm0KFXGiF88QaB7",
      "include_colab_link": true
    },
    "kernelspec": {
      "name": "python3",
      "display_name": "Python 3"
    }
  },
  "cells": [
    {
      "cell_type": "markdown",
      "metadata": {
        "id": "view-in-github",
        "colab_type": "text"
      },
      "source": [
        "<a href=\"https://colab.research.google.com/github/ahmadbadawikr/DS_and_ML/blob/master/NLP_Tokenization.ipynb\" target=\"_parent\"><img src=\"https://colab.research.google.com/assets/colab-badge.svg\" alt=\"Open In Colab\"/></a>"
      ]
    },
    {
      "cell_type": "code",
      "metadata": {
        "id": "KO9AGC_g__HV",
        "colab_type": "code",
        "colab": {}
      },
      "source": [
        "from tensorflow.keras.preprocessing.text import Tokenizer"
      ],
      "execution_count": null,
      "outputs": []
    },
    {
      "cell_type": "code",
      "metadata": {
        "id": "EA4O0D6JANTw",
        "colab_type": "code",
        "colab": {}
      },
      "source": [
        "tokenizer = Tokenizer(num_words= 15, oov_token='-')"
      ],
      "execution_count": null,
      "outputs": []
    },
    {
      "cell_type": "code",
      "metadata": {
        "id": "LZJL8xm_AmVk",
        "colab_type": "code",
        "colab": {}
      },
      "source": [
        "teks = ['I like programming',\n",
        "        'Programming is fun!',\n",
        "        'Machine Learning is kind of different with conventional programming']"
      ],
      "execution_count": null,
      "outputs": []
    },
    {
      "cell_type": "code",
      "metadata": {
        "id": "jPsckVisHPJb",
        "colab_type": "code",
        "colab": {}
      },
      "source": [
        "tokenizer.fit_on_texts(teks)"
      ],
      "execution_count": null,
      "outputs": []
    },
    {
      "cell_type": "code",
      "metadata": {
        "id": "cvrXHpHeA69D",
        "colab_type": "code",
        "colab": {}
      },
      "source": [
        "sequences = tokenizer.texts_to_sequences(teks)"
      ],
      "execution_count": null,
      "outputs": []
    },
    {
      "cell_type": "code",
      "metadata": {
        "id": "UtUHVN-PBFuM",
        "colab_type": "code",
        "colab": {
          "base_uri": "https://localhost:8080/",
          "height": 54
        },
        "outputId": "7021e5f4-1b19-4617-8a8a-565d5879ad00"
      },
      "source": [
        "print(tokenizer.word_index)"
      ],
      "execution_count": null,
      "outputs": [
        {
          "output_type": "stream",
          "text": [
            "{'-': 1, 'programming': 2, 'is': 3, 'machine': 4, 'learning': 5, 'i': 6, 'like': 7, 'fun': 8, 'kind': 9, 'of': 10, 'different': 11, 'with': 12, 'conventional': 13, 'saya': 14, 'suka': 15, 'sangat': 16, 'menyenangkan': 17, 'berbeda': 18, 'dengan': 19, 'pemrograman': 20, 'konvensional': 21}\n"
          ],
          "name": "stdout"
        }
      ]
    },
    {
      "cell_type": "code",
      "metadata": {
        "id": "SD0B7yCyCAc1",
        "colab_type": "code",
        "colab": {
          "base_uri": "https://localhost:8080/",
          "height": 34
        },
        "outputId": "4b51c515-1646-4e39-fd98-ccf1af254b86"
      },
      "source": [
        "print(tokenizer.texts_to_sequences(['I like machine learning']))"
      ],
      "execution_count": null,
      "outputs": [
        {
          "output_type": "stream",
          "text": [
            "[[6, 7, 4, 5]]\n"
          ],
          "name": "stdout"
        }
      ]
    },
    {
      "cell_type": "code",
      "metadata": {
        "id": "6myuUBbxCcL0",
        "colab_type": "code",
        "colab": {}
      },
      "source": [
        "from tensorflow.keras.preprocessing.sequence import pad_sequences\n",
        "sequences_samelength = pad_sequences(sequences)"
      ],
      "execution_count": null,
      "outputs": []
    },
    {
      "cell_type": "code",
      "metadata": {
        "id": "sr9kVj3HGzU5",
        "colab_type": "code",
        "colab": {}
      },
      "source": [
        "sequences_samelength = pad_sequences(sequences, \n",
        "                                      padding='post',\n",
        "                                      maxlen=5,\n",
        "                                      truncating='post')"
      ],
      "execution_count": null,
      "outputs": []
    },
    {
      "cell_type": "code",
      "metadata": {
        "id": "zsXY3oW-HeGV",
        "colab_type": "code",
        "colab": {
          "base_uri": "https://localhost:8080/",
          "height": 68
        },
        "outputId": "b3d33324-f5bf-45d0-ed3c-10724a071606"
      },
      "source": [
        "print(sequences_samelength)"
      ],
      "execution_count": null,
      "outputs": [
        {
          "output_type": "stream",
          "text": [
            "[[ 6  7  2  0  0]\n",
            " [ 2  3  8  0  0]\n",
            " [ 4  5  3  9 10]]\n"
          ],
          "name": "stdout"
        }
      ]
    }
  ]
}