{
  "nbformat": 4,
  "nbformat_minor": 0,
  "metadata": {
    "colab": {
      "name": "Dicoding_Submission_Intermediate_NLP#1.ipynb",
      "provenance": [],
      "collapsed_sections": []
    },
    "kernelspec": {
      "name": "python3",
      "display_name": "Python 3"
    }
  },
  "cells": [
    {
      "cell_type": "code",
      "metadata": {
        "id": "kdzY5umYVPJS",
        "colab_type": "code",
        "colab": {
          "base_uri": "https://localhost:8080/",
          "height": 34
        },
        "outputId": "0c44720a-526d-4dbb-a643-2074b0d6f0c3"
      },
      "source": [
        "from google.colab import drive\n",
        "drive.mount('/content/drive')"
      ],
      "execution_count": 3,
      "outputs": [
        {
          "output_type": "stream",
          "text": [
            "Drive already mounted at /content/drive; to attempt to forcibly remount, call drive.mount(\"/content/drive\", force_remount=True).\n"
          ],
          "name": "stdout"
        }
      ]
    },
    {
      "cell_type": "code",
      "metadata": {
        "id": "3ySXJa3_V9VE",
        "colab_type": "code",
        "colab": {
          "base_uri": "https://localhost:8080/",
          "height": 306
        },
        "outputId": "38bc36a4-7df0-4699-8c14-05149d7a63f4"
      },
      "source": [
        "import pandas as pd\n",
        "df = pd.read_csv('/content/drive/My Drive/Womens Clothing E-Commerce Reviews.csv')\n",
        "\n",
        "df.head()"
      ],
      "execution_count": 2,
      "outputs": [
        {
          "output_type": "execute_result",
          "data": {
            "text/html": [
              "<div>\n",
              "<style scoped>\n",
              "    .dataframe tbody tr th:only-of-type {\n",
              "        vertical-align: middle;\n",
              "    }\n",
              "\n",
              "    .dataframe tbody tr th {\n",
              "        vertical-align: top;\n",
              "    }\n",
              "\n",
              "    .dataframe thead th {\n",
              "        text-align: right;\n",
              "    }\n",
              "</style>\n",
              "<table border=\"1\" class=\"dataframe\">\n",
              "  <thead>\n",
              "    <tr style=\"text-align: right;\">\n",
              "      <th></th>\n",
              "      <th>Unnamed: 0</th>\n",
              "      <th>Clothing ID</th>\n",
              "      <th>Age</th>\n",
              "      <th>Title</th>\n",
              "      <th>Review Text</th>\n",
              "      <th>Rating</th>\n",
              "      <th>Recommended IND</th>\n",
              "      <th>Positive Feedback Count</th>\n",
              "      <th>Division Name</th>\n",
              "      <th>Department Name</th>\n",
              "      <th>Class Name</th>\n",
              "    </tr>\n",
              "  </thead>\n",
              "  <tbody>\n",
              "    <tr>\n",
              "      <th>0</th>\n",
              "      <td>0</td>\n",
              "      <td>767</td>\n",
              "      <td>33</td>\n",
              "      <td>NaN</td>\n",
              "      <td>Absolutely wonderful - silky and sexy and comf...</td>\n",
              "      <td>4</td>\n",
              "      <td>1</td>\n",
              "      <td>0</td>\n",
              "      <td>Initmates</td>\n",
              "      <td>Intimate</td>\n",
              "      <td>Intimates</td>\n",
              "    </tr>\n",
              "    <tr>\n",
              "      <th>1</th>\n",
              "      <td>1</td>\n",
              "      <td>1080</td>\n",
              "      <td>34</td>\n",
              "      <td>NaN</td>\n",
              "      <td>Love this dress!  it's sooo pretty.  i happene...</td>\n",
              "      <td>5</td>\n",
              "      <td>1</td>\n",
              "      <td>4</td>\n",
              "      <td>General</td>\n",
              "      <td>Dresses</td>\n",
              "      <td>Dresses</td>\n",
              "    </tr>\n",
              "    <tr>\n",
              "      <th>2</th>\n",
              "      <td>2</td>\n",
              "      <td>1077</td>\n",
              "      <td>60</td>\n",
              "      <td>Some major design flaws</td>\n",
              "      <td>I had such high hopes for this dress and reall...</td>\n",
              "      <td>3</td>\n",
              "      <td>0</td>\n",
              "      <td>0</td>\n",
              "      <td>General</td>\n",
              "      <td>Dresses</td>\n",
              "      <td>Dresses</td>\n",
              "    </tr>\n",
              "    <tr>\n",
              "      <th>3</th>\n",
              "      <td>3</td>\n",
              "      <td>1049</td>\n",
              "      <td>50</td>\n",
              "      <td>My favorite buy!</td>\n",
              "      <td>I love, love, love this jumpsuit. it's fun, fl...</td>\n",
              "      <td>5</td>\n",
              "      <td>1</td>\n",
              "      <td>0</td>\n",
              "      <td>General Petite</td>\n",
              "      <td>Bottoms</td>\n",
              "      <td>Pants</td>\n",
              "    </tr>\n",
              "    <tr>\n",
              "      <th>4</th>\n",
              "      <td>4</td>\n",
              "      <td>847</td>\n",
              "      <td>47</td>\n",
              "      <td>Flattering shirt</td>\n",
              "      <td>This shirt is very flattering to all due to th...</td>\n",
              "      <td>5</td>\n",
              "      <td>1</td>\n",
              "      <td>6</td>\n",
              "      <td>General</td>\n",
              "      <td>Tops</td>\n",
              "      <td>Blouses</td>\n",
              "    </tr>\n",
              "  </tbody>\n",
              "</table>\n",
              "</div>"
            ],
            "text/plain": [
              "   Unnamed: 0  Clothing ID  Age  ...   Division Name Department Name  Class Name\n",
              "0           0          767   33  ...       Initmates        Intimate   Intimates\n",
              "1           1         1080   34  ...         General         Dresses     Dresses\n",
              "2           2         1077   60  ...         General         Dresses     Dresses\n",
              "3           3         1049   50  ...  General Petite         Bottoms       Pants\n",
              "4           4          847   47  ...         General            Tops     Blouses\n",
              "\n",
              "[5 rows x 11 columns]"
            ]
          },
          "metadata": {
            "tags": []
          },
          "execution_count": 2
        }
      ]
    },
    {
      "cell_type": "markdown",
      "metadata": {
        "id": "qSPcf0VYNZVJ",
        "colab_type": "text"
      },
      "source": [
        "dataset https://www.kaggle.com/nicapotato/womens-ecommerce-clothing-reviews"
      ]
    },
    {
      "cell_type": "code",
      "metadata": {
        "id": "VQBgvo09WLH4",
        "colab_type": "code",
        "colab": {
          "base_uri": "https://localhost:8080/",
          "height": 34
        },
        "outputId": "7292df0d-5891-419c-a88d-64247c6240ea"
      },
      "source": [
        "len(df['Class Name'].unique())"
      ],
      "execution_count": 4,
      "outputs": [
        {
          "output_type": "execute_result",
          "data": {
            "text/plain": [
              "21"
            ]
          },
          "metadata": {
            "tags": []
          },
          "execution_count": 4
        }
      ]
    },
    {
      "cell_type": "code",
      "metadata": {
        "id": "Mq6tSSCdWRyv",
        "colab_type": "code",
        "colab": {
          "base_uri": "https://localhost:8080/",
          "height": 85
        },
        "outputId": "cbb5d3c9-43ea-4ce9-c97b-dd49519bdace"
      },
      "source": [
        "df['Class Name'].unique()"
      ],
      "execution_count": 5,
      "outputs": [
        {
          "output_type": "execute_result",
          "data": {
            "text/plain": [
              "array(['Intimates', 'Dresses', 'Pants', 'Blouses', 'Knits', 'Outerwear',\n",
              "       'Lounge', 'Sweaters', 'Skirts', 'Fine gauge', 'Sleep', 'Jackets',\n",
              "       'Swim', 'Trend', 'Jeans', 'Legwear', 'Shorts', 'Layering',\n",
              "       'Casual bottoms', nan, 'Chemises'], dtype=object)"
            ]
          },
          "metadata": {
            "tags": []
          },
          "execution_count": 5
        }
      ]
    },
    {
      "cell_type": "code",
      "metadata": {
        "id": "ugGkeI86WXMn",
        "colab_type": "code",
        "colab": {
          "base_uri": "https://localhost:8080/",
          "height": 136
        },
        "outputId": "0e0c194e-ffe9-483e-cedc-6d819acc786a"
      },
      "source": [
        "df['Department Name'].value_counts()"
      ],
      "execution_count": 6,
      "outputs": [
        {
          "output_type": "execute_result",
          "data": {
            "text/plain": [
              "Tops        10468\n",
              "Dresses      6319\n",
              "Bottoms      3799\n",
              "Intimate     1735\n",
              "Jackets      1032\n",
              "Trend         119\n",
              "Name: Department Name, dtype: int64"
            ]
          },
          "metadata": {
            "tags": []
          },
          "execution_count": 6
        }
      ]
    },
    {
      "cell_type": "code",
      "metadata": {
        "id": "-WeFGj1wqSQQ",
        "colab_type": "code",
        "colab": {}
      },
      "source": [
        "df1 = df.drop(columns=['Unnamed: 0', 'Clothing ID', 'Age','Title', 'Rating', 'Recommended IND', 'Positive Feedback Count', 'Division Name',  'Department Name'])"
      ],
      "execution_count": 7,
      "outputs": []
    },
    {
      "cell_type": "code",
      "metadata": {
        "id": "o_bKt77mvO2J",
        "colab_type": "code",
        "colab": {}
      },
      "source": [
        "df2 = df1.loc[(df['Class Name'] == 'Pants') | (df['Class Name'] == 'Jeans') | (df['Class Name'] == 'Fine gauge') ]"
      ],
      "execution_count": 8,
      "outputs": []
    },
    {
      "cell_type": "code",
      "metadata": {
        "id": "wxvHOwchW95G",
        "colab_type": "code",
        "colab": {
          "base_uri": "https://localhost:8080/",
          "height": 204
        },
        "outputId": "a4dd2c4d-e375-4f52-cfa4-90815301c6dc"
      },
      "source": [
        "df2.head()"
      ],
      "execution_count": 9,
      "outputs": [
        {
          "output_type": "execute_result",
          "data": {
            "text/html": [
              "<div>\n",
              "<style scoped>\n",
              "    .dataframe tbody tr th:only-of-type {\n",
              "        vertical-align: middle;\n",
              "    }\n",
              "\n",
              "    .dataframe tbody tr th {\n",
              "        vertical-align: top;\n",
              "    }\n",
              "\n",
              "    .dataframe thead th {\n",
              "        text-align: right;\n",
              "    }\n",
              "</style>\n",
              "<table border=\"1\" class=\"dataframe\">\n",
              "  <thead>\n",
              "    <tr style=\"text-align: right;\">\n",
              "      <th></th>\n",
              "      <th>Review Text</th>\n",
              "      <th>Class Name</th>\n",
              "    </tr>\n",
              "  </thead>\n",
              "  <tbody>\n",
              "    <tr>\n",
              "      <th>3</th>\n",
              "      <td>I love, love, love this jumpsuit. it's fun, fl...</td>\n",
              "      <td>Pants</td>\n",
              "    </tr>\n",
              "    <tr>\n",
              "      <th>15</th>\n",
              "      <td>I took these out of the package and wanted the...</td>\n",
              "      <td>Pants</td>\n",
              "    </tr>\n",
              "    <tr>\n",
              "      <th>16</th>\n",
              "      <td>Material and color is nice.  the leg opening i...</td>\n",
              "      <td>Pants</td>\n",
              "    </tr>\n",
              "    <tr>\n",
              "      <th>30</th>\n",
              "      <td>Beautifully made pants and on trend with the f...</td>\n",
              "      <td>Pants</td>\n",
              "    </tr>\n",
              "    <tr>\n",
              "      <th>31</th>\n",
              "      <td>I never would have given these pants a second ...</td>\n",
              "      <td>Pants</td>\n",
              "    </tr>\n",
              "  </tbody>\n",
              "</table>\n",
              "</div>"
            ],
            "text/plain": [
              "                                          Review Text Class Name\n",
              "3   I love, love, love this jumpsuit. it's fun, fl...      Pants\n",
              "15  I took these out of the package and wanted the...      Pants\n",
              "16  Material and color is nice.  the leg opening i...      Pants\n",
              "30  Beautifully made pants and on trend with the f...      Pants\n",
              "31  I never would have given these pants a second ...      Pants"
            ]
          },
          "metadata": {
            "tags": []
          },
          "execution_count": 9
        }
      ]
    },
    {
      "cell_type": "code",
      "metadata": {
        "id": "mMCLLwzvo3Nl",
        "colab_type": "code",
        "colab": {
          "base_uri": "https://localhost:8080/",
          "height": 119
        },
        "outputId": "6aa4c4fe-bdd6-4e23-c3ac-964271610f49"
      },
      "source": [
        "df2.columns = df2.columns.str.lower()\n",
        "df2['review text'] = df2['review text'].astype(str)"
      ],
      "execution_count": 10,
      "outputs": [
        {
          "output_type": "stream",
          "text": [
            "/usr/local/lib/python3.6/dist-packages/ipykernel_launcher.py:2: SettingWithCopyWarning: \n",
            "A value is trying to be set on a copy of a slice from a DataFrame.\n",
            "Try using .loc[row_indexer,col_indexer] = value instead\n",
            "\n",
            "See the caveats in the documentation: https://pandas.pydata.org/pandas-docs/stable/user_guide/indexing.html#returning-a-view-versus-a-copy\n",
            "  \n"
          ],
          "name": "stderr"
        }
      ]
    },
    {
      "cell_type": "code",
      "metadata": {
        "id": "2-78C6_X4ke0",
        "colab_type": "code",
        "colab": {}
      },
      "source": [
        "# fungsi untuk text cleaning\n",
        "import re\n",
        "\n",
        "def clean_text(text):\n",
        "    text = text.lower()\n",
        "    text = re.sub(r\"what's\", \"what is \", text)\n",
        "    text = re.sub(r\"\\'s\", \" \", text)\n",
        "    text = re.sub(r\"\\'ve\", \" have \", text)\n",
        "    text = re.sub(r\"can't\", \"can not \", text)\n",
        "    text = re.sub(r\"n't\", \" not \", text)\n",
        "    text = re.sub(r\"i'm\", \"i am \", text)\n",
        "    text = re.sub(r\"\\'re\", \" are \", text)\n",
        "    text = re.sub(r\"\\'d\", \" would \", text)\n",
        "    text = re.sub(r\"\\'ll\", \" will \", text)\n",
        "    text = re.sub(r\"\\'scuse\", \" excuse \", text)\n",
        "    #text = re.sub('\\W', ' ', text)\n",
        "    #text = re.sub('\\s+', ' ', text)\n",
        "    text = text.strip(' ')\n",
        "    return text"
      ],
      "execution_count": 11,
      "outputs": []
    },
    {
      "cell_type": "code",
      "metadata": {
        "id": "nO0egPT85KPh",
        "colab_type": "code",
        "colab": {
          "base_uri": "https://localhost:8080/",
          "height": 119
        },
        "outputId": "2c1674d4-cb39-4f0a-aa71-be1ae590989e"
      },
      "source": [
        "df2['review text'] = df2['review text'].apply(clean_text)"
      ],
      "execution_count": 12,
      "outputs": [
        {
          "output_type": "stream",
          "text": [
            "/usr/local/lib/python3.6/dist-packages/ipykernel_launcher.py:1: SettingWithCopyWarning: \n",
            "A value is trying to be set on a copy of a slice from a DataFrame.\n",
            "Try using .loc[row_indexer,col_indexer] = value instead\n",
            "\n",
            "See the caveats in the documentation: https://pandas.pydata.org/pandas-docs/stable/user_guide/indexing.html#returning-a-view-versus-a-copy\n",
            "  \"\"\"Entry point for launching an IPython kernel.\n"
          ],
          "name": "stderr"
        }
      ]
    },
    {
      "cell_type": "code",
      "metadata": {
        "id": "8nwWm3DOr2vW",
        "colab_type": "code",
        "colab": {
          "base_uri": "https://localhost:8080/",
          "height": 350
        },
        "outputId": "8db0664c-4cb2-49f0-9db6-776065040b21"
      },
      "source": [
        "import matplotlib.pyplot as plt\n",
        "%matplotlib inline\n",
        "import seaborn as sns\n",
        "\n",
        "sns.countplot(df2['class name'])\n",
        "plt.xlabel('class name')"
      ],
      "execution_count": 13,
      "outputs": [
        {
          "output_type": "stream",
          "text": [
            "/usr/local/lib/python3.6/dist-packages/statsmodels/tools/_testing.py:19: FutureWarning: pandas.util.testing is deprecated. Use the functions in the public API at pandas.testing instead.\n",
            "  import pandas.util.testing as tm\n"
          ],
          "name": "stderr"
        },
        {
          "output_type": "execute_result",
          "data": {
            "text/plain": [
              "Text(0.5, 0, 'class name')"
            ]
          },
          "metadata": {
            "tags": []
          },
          "execution_count": 13
        },
        {
          "output_type": "display_data",
          "data": {
            "image/png": "[encoded data removed]",
            "text/plain": [
              "<Figure size 432x288 with 1 Axes>"
            ]
          },
          "metadata": {
            "tags": [],
            "needs_background": "light"
          }
        }
      ]
    },
    {
      "cell_type": "markdown",
      "metadata": {
        "id": "IqngLAOysAhX",
        "colab_type": "text"
      },
      "source": [
        "Data cukup balanced sehingga cocok digunakan sebagai klasifikasi"
      ]
    },
    {
      "cell_type": "code",
      "metadata": {
        "id": "XC-KnkTDsF_e",
        "colab_type": "code",
        "colab": {}
      },
      "source": [
        "outfit = pd.get_dummies(df2['class name'])\n",
        "fit = pd.concat([df2, outfit], axis=1)\n",
        "fit = fit.drop(columns=['class name'])"
      ],
      "execution_count": 14,
      "outputs": []
    },
    {
      "cell_type": "code",
      "metadata": {
        "id": "MqDWQXhJwiFo",
        "colab_type": "code",
        "colab": {
          "base_uri": "https://localhost:8080/",
          "height": 419
        },
        "outputId": "f9f21bb7-7d06-4448-ed3e-f4068b5d7b85"
      },
      "source": [
        "fit"
      ],
      "execution_count": 15,
      "outputs": [
        {
          "output_type": "execute_result",
          "data": {
            "text/html": [
              "<div>\n",
              "<style scoped>\n",
              "    .dataframe tbody tr th:only-of-type {\n",
              "        vertical-align: middle;\n",
              "    }\n",
              "\n",
              "    .dataframe tbody tr th {\n",
              "        vertical-align: top;\n",
              "    }\n",
              "\n",
              "    .dataframe thead th {\n",
              "        text-align: right;\n",
              "    }\n",
              "</style>\n",
              "<table border=\"1\" class=\"dataframe\">\n",
              "  <thead>\n",
              "    <tr style=\"text-align: right;\">\n",
              "      <th></th>\n",
              "      <th>review text</th>\n",
              "      <th>Fine gauge</th>\n",
              "      <th>Jeans</th>\n",
              "      <th>Pants</th>\n",
              "    </tr>\n",
              "  </thead>\n",
              "  <tbody>\n",
              "    <tr>\n",
              "      <th>3</th>\n",
              "      <td>i love, love, love this jumpsuit. it  fun, fli...</td>\n",
              "      <td>0</td>\n",
              "      <td>0</td>\n",
              "      <td>1</td>\n",
              "    </tr>\n",
              "    <tr>\n",
              "      <th>15</th>\n",
              "      <td>i took these out of the package and wanted the...</td>\n",
              "      <td>0</td>\n",
              "      <td>0</td>\n",
              "      <td>1</td>\n",
              "    </tr>\n",
              "    <tr>\n",
              "      <th>16</th>\n",
              "      <td>material and color is nice.  the leg opening i...</td>\n",
              "      <td>0</td>\n",
              "      <td>0</td>\n",
              "      <td>1</td>\n",
              "    </tr>\n",
              "    <tr>\n",
              "      <th>30</th>\n",
              "      <td>beautifully made pants and on trend with the f...</td>\n",
              "      <td>0</td>\n",
              "      <td>0</td>\n",
              "      <td>1</td>\n",
              "    </tr>\n",
              "    <tr>\n",
              "      <th>31</th>\n",
              "      <td>i never would have given these pants a second ...</td>\n",
              "      <td>0</td>\n",
              "      <td>0</td>\n",
              "      <td>1</td>\n",
              "    </tr>\n",
              "    <tr>\n",
              "      <th>...</th>\n",
              "      <td>...</td>\n",
              "      <td>...</td>\n",
              "      <td>...</td>\n",
              "      <td>...</td>\n",
              "    </tr>\n",
              "    <tr>\n",
              "      <th>23315</th>\n",
              "      <td>order yourself a pair today! my new favorite j...</td>\n",
              "      <td>0</td>\n",
              "      <td>1</td>\n",
              "      <td>0</td>\n",
              "    </tr>\n",
              "    <tr>\n",
              "      <th>23321</th>\n",
              "      <td>i got this in the blue and love it. tts and th...</td>\n",
              "      <td>1</td>\n",
              "      <td>0</td>\n",
              "      <td>0</td>\n",
              "    </tr>\n",
              "    <tr>\n",
              "      <th>23332</th>\n",
              "      <td>so i typically avoid jumpsuits, rompers, etc. ...</td>\n",
              "      <td>0</td>\n",
              "      <td>0</td>\n",
              "      <td>1</td>\n",
              "    </tr>\n",
              "    <tr>\n",
              "      <th>23353</th>\n",
              "      <td>nice fabric and construction. the small fit me...</td>\n",
              "      <td>0</td>\n",
              "      <td>0</td>\n",
              "      <td>1</td>\n",
              "    </tr>\n",
              "    <tr>\n",
              "      <th>23396</th>\n",
              "      <td>i typically do well with jumpsuits but this on...</td>\n",
              "      <td>0</td>\n",
              "      <td>0</td>\n",
              "      <td>1</td>\n",
              "    </tr>\n",
              "  </tbody>\n",
              "</table>\n",
              "<p>3635 rows × 4 columns</p>\n",
              "</div>"
            ],
            "text/plain": [
              "                                             review text  ...  Pants\n",
              "3      i love, love, love this jumpsuit. it  fun, fli...  ...      1\n",
              "15     i took these out of the package and wanted the...  ...      1\n",
              "16     material and color is nice.  the leg opening i...  ...      1\n",
              "30     beautifully made pants and on trend with the f...  ...      1\n",
              "31     i never would have given these pants a second ...  ...      1\n",
              "...                                                  ...  ...    ...\n",
              "23315  order yourself a pair today! my new favorite j...  ...      0\n",
              "23321  i got this in the blue and love it. tts and th...  ...      0\n",
              "23332  so i typically avoid jumpsuits, rompers, etc. ...  ...      1\n",
              "23353  nice fabric and construction. the small fit me...  ...      1\n",
              "23396  i typically do well with jumpsuits but this on...  ...      1\n",
              "\n",
              "[3635 rows x 4 columns]"
            ]
          },
          "metadata": {
            "tags": []
          },
          "execution_count": 15
        }
      ]
    },
    {
      "cell_type": "code",
      "metadata": {
        "id": "PYZLd5D7wnJB",
        "colab_type": "code",
        "colab": {}
      },
      "source": [
        "review = fit['review text'].values\n",
        "label = fit[['Fine gauge', 'Jeans', 'Pants']].values"
      ],
      "execution_count": 16,
      "outputs": []
    },
    {
      "cell_type": "code",
      "metadata": {
        "id": "UpJJCoRx-HI2",
        "colab_type": "code",
        "colab": {
          "base_uri": "https://localhost:8080/",
          "height": 173
        },
        "outputId": "f20eaf1b-7f0f-43fa-f0d8-40a2a42547bd"
      },
      "source": [
        "review"
      ],
      "execution_count": 17,
      "outputs": [
        {
          "output_type": "execute_result",
          "data": {
            "text/plain": [
              "array(['i love, love, love this jumpsuit. it  fun, flirty, and fabulous! every time i wear it, i get nothing but great compliments!',\n",
              "       'i took these out of the package and wanted them to fit so badly, but i could tell before i put them on that they would not . these are for an hour-glass figure. i am more straight up and down. the waist was way too small for my body shape and even if i sized up, i could tell they would still be tight in the waist and too roomy in the hips - for me. that said, they are really nice. sturdy, linen-like fabric, pretty color, well made. i hope they make someone very happy!',\n",
              "       \"material and color is nice.  the leg opening is very large.  i am 5'1 (100#) and the length hits me right above my ankle.  with a leg opening the size of my waist and hem line above my ankle, and front pleats to make me fluffy, i think you can imagine that it is not a flattering look.  if you are at least average height or taller, this may look good on you.\",\n",
              "       ...,\n",
              "       'so i typically avoid jumpsuits, rompers, etc. but there is always something that still makes me try them! and every time i am  disappointed. inevitably. which is such a bummer! so i knew this time would not  be any different, plus there was only an extra small available to try. which i am  definitely not an extra small, usually a medium maayyyyybe a small. but i kid you not, it fit perfectly!! it was super flattering in every way!! the material is so soft, and light weight, but still thick enough. i a',\n",
              "       'nice fabric and construction. the small fit me, a usual size 6. only problem: there is no way to easily use the bathroom in this thing! seriously. that  why i am  returning it.',\n",
              "       'i typically do well with jumpsuits but this one did not work. i am smaller on top than the bottom but not by much. i got the xs and it was tight in the calves and short in the waist but the top fit perfectly. maybe a s would have fit better but i got it on sale and s was out of stock. it defiantly did not look like it does on the model. :) i am typically a size 2. the material is really nice. i was hoping for a jumpsuit that could be casual an covered since most jumpsuits tend to show more skin'],\n",
              "      dtype=object)"
            ]
          },
          "metadata": {
            "tags": []
          },
          "execution_count": 17
        }
      ]
    },
    {
      "cell_type": "code",
      "metadata": {
        "id": "hc5yb3i7xkx4",
        "colab_type": "code",
        "colab": {
          "base_uri": "https://localhost:8080/",
          "height": 136
        },
        "outputId": "86fb697c-90cb-48b9-8f2a-335292bd7d70"
      },
      "source": [
        "label"
      ],
      "execution_count": 18,
      "outputs": [
        {
          "output_type": "execute_result",
          "data": {
            "text/plain": [
              "array([[0, 0, 1],\n",
              "       [0, 0, 1],\n",
              "       [0, 0, 1],\n",
              "       ...,\n",
              "       [0, 0, 1],\n",
              "       [0, 0, 1],\n",
              "       [0, 0, 1]], dtype=uint8)"
            ]
          },
          "metadata": {
            "tags": []
          },
          "execution_count": 18
        }
      ]
    },
    {
      "cell_type": "code",
      "metadata": {
        "id": "XWkqTS4LxmGg",
        "colab_type": "code",
        "colab": {}
      },
      "source": [
        "from sklearn.model_selection import train_test_split\n",
        "review_train, review_test, label_train, label_test = train_test_split(review, label, test_size=0.2, shuffle=True)"
      ],
      "execution_count": 19,
      "outputs": []
    },
    {
      "cell_type": "code",
      "metadata": {
        "id": "0i5dnLuZ3oUV",
        "colab_type": "code",
        "colab": {}
      },
      "source": [
        "import numpy as np\n",
        "from gensim.parsing.porter import PorterStemmer\n",
        "from gensim.parsing.preprocessing import remove_stopwords\n",
        "\n",
        "porterStemmer = PorterStemmer()\n",
        "\n",
        "rev_train_texts = []\n",
        "for text in review_train:\n",
        "  removed_text = remove_stopwords(text)   \n",
        "  removed_text = porterStemmer.stem_sentence(removed_text) \n",
        "  rev_train_texts.append(removed_text)\n",
        "\n",
        "rev_train_texts = np.array(rev_train_texts, dtype='O')  \n",
        "\n",
        "rev_test_texts = []\n",
        "for text in review_test:\n",
        "  removed_text = remove_stopwords(text)\n",
        "  removed_text = porterStemmer.stem_sentence(removed_text)\n",
        "  rev_test_texts.append(removed_text)\n",
        "\n",
        "rev_test_texts = np.array(rev_test_texts, dtype='O')"
      ],
      "execution_count": 20,
      "outputs": []
    },
    {
      "cell_type": "code",
      "metadata": {
        "id": "K3I4r4DBxov4",
        "colab_type": "code",
        "colab": {}
      },
      "source": [
        "from tensorflow.keras.preprocessing.text import Tokenizer\n",
        "from tensorflow.keras.preprocessing.sequence import pad_sequences\n",
        " \n",
        "tokenizer = Tokenizer(num_words=5000, oov_token='x')\n",
        "tokenizer.fit_on_texts(rev_train_texts) \n",
        "tokenizer.fit_on_texts(rev_test_texts)\n",
        "\t \n",
        "seq_train = tokenizer.texts_to_sequences(rev_train_texts)\n",
        "seq_test = tokenizer.texts_to_sequences(rev_test_texts)\n",
        "\t \n",
        "padded_train = pad_sequences(seq_train) \n",
        "padded_test = pad_sequences(seq_test)\n",
        "\n",
        "word_to_index = tokenizer.word_index"
      ],
      "execution_count": 21,
      "outputs": []
    },
    {
      "cell_type": "code",
      "metadata": {
        "id": "ux5_cnR3xYeh",
        "colab_type": "code",
        "colab": {
          "base_uri": "https://localhost:8080/",
          "height": 34
        },
        "outputId": "72820989-9c9c-4f69-8137-a93723eb745f"
      },
      "source": [
        "len(word_to_index)"
      ],
      "execution_count": 22,
      "outputs": [
        {
          "output_type": "execute_result",
          "data": {
            "text/plain": [
              "5950"
            ]
          },
          "metadata": {
            "tags": []
          },
          "execution_count": 22
        }
      ]
    },
    {
      "cell_type": "code",
      "metadata": {
        "id": "p_BjppS9pNPL",
        "colab_type": "code",
        "colab": {
          "base_uri": "https://localhost:8080/",
          "height": 629
        },
        "outputId": "b9bc48cf-3b79-4950-9cbf-e603197e8df4"
      },
      "source": [
        "import tensorflow as tf\n",
        "\n",
        "model = tf.keras.Sequential([\n",
        "    tf.keras.layers.Embedding(input_dim=5000, output_dim=32),\n",
        "    tf.keras.layers.LSTM(64, dropout=0.1, recurrent_dropout=0.1),\n",
        "    tf.keras.layers.Flatten(),\n",
        "    tf.keras.layers.Dropout(0.2),\n",
        "    tf.keras.layers.Dense(128,activation = 'relu'),\n",
        "    tf.keras.layers.Flatten(),\n",
        "    tf.keras.layers.Dropout(0.2),\n",
        "    tf.keras.layers.Dense(64,activation = 'relu'),\n",
        "    tf.keras.layers.Flatten(),\n",
        "    tf.keras.layers.Dropout(0.2),\n",
        "    tf.keras.layers.Dense(32,activation = 'relu'),\n",
        "    tf.keras.layers.Flatten(),\n",
        "    tf.keras.layers.Dropout(0.2),\n",
        "    tf.keras.layers.Dense(3, activation='softmax')\n",
        "])\n",
        "\n",
        "model.summary()"
      ],
      "execution_count": 113,
      "outputs": [
        {
          "output_type": "stream",
          "text": [
            "Model: \"sequential_15\"\n",
            "_________________________________________________________________\n",
            "Layer (type)                 Output Shape              Param #   \n",
            "=================================================================\n",
            "embedding_15 (Embedding)     (None, None, 32)          160000    \n",
            "_________________________________________________________________\n",
            "lstm_15 (LSTM)               (None, 64)                24832     \n",
            "_________________________________________________________________\n",
            "flatten_59 (Flatten)         (None, 64)                0         \n",
            "_________________________________________________________________\n",
            "dropout_59 (Dropout)         (None, 64)                0         \n",
            "_________________________________________________________________\n",
            "dense_59 (Dense)             (None, 128)               8320      \n",
            "_________________________________________________________________\n",
            "flatten_60 (Flatten)         (None, 128)               0         \n",
            "_________________________________________________________________\n",
            "dropout_60 (Dropout)         (None, 128)               0         \n",
            "_________________________________________________________________\n",
            "dense_60 (Dense)             (None, 64)                8256      \n",
            "_________________________________________________________________\n",
            "flatten_61 (Flatten)         (None, 64)                0         \n",
            "_________________________________________________________________\n",
            "dropout_61 (Dropout)         (None, 64)                0         \n",
            "_________________________________________________________________\n",
            "dense_61 (Dense)             (None, 32)                2080      \n",
            "_________________________________________________________________\n",
            "flatten_62 (Flatten)         (None, 32)                0         \n",
            "_________________________________________________________________\n",
            "dropout_62 (Dropout)         (None, 32)                0         \n",
            "_________________________________________________________________\n",
            "dense_62 (Dense)             (None, 3)                 99        \n",
            "=================================================================\n",
            "Total params: 203,587\n",
            "Trainable params: 203,587\n",
            "Non-trainable params: 0\n",
            "_________________________________________________________________\n"
          ],
          "name": "stdout"
        }
      ]
    },
    {
      "cell_type": "code",
      "metadata": {
        "id": "uF0n6I7lpSsw",
        "colab_type": "code",
        "colab": {}
      },
      "source": [
        "opt = tf.keras.optimizers.Adam(learning_rate=0.001)\n",
        "model.compile(loss = 'categorical_crossentropy', optimizer = opt, metrics = ['acc'])"
      ],
      "execution_count": 114,
      "outputs": []
    },
    {
      "cell_type": "code",
      "metadata": {
        "id": "RqcdqipNpVN-",
        "colab_type": "code",
        "colab": {}
      },
      "source": [
        "from keras.callbacks import EarlyStopping,ReduceLROnPlateau\n",
        "\n",
        "reduce_lr = ReduceLROnPlateau(monitor='val_loss', factor=0.2,\n",
        "                              patience=1, min_lr=0.00001)\n",
        "\n",
        "early_stopping_monitor = EarlyStopping(monitor = 'val_acc',\n",
        "                          min_delta = 0,\n",
        "                          patience = 10,\n",
        "                          verbose = 1,\n",
        "                          restore_best_weights = True)"
      ],
      "execution_count": 115,
      "outputs": []
    },
    {
      "cell_type": "code",
      "metadata": {
        "id": "2lhXNxjHpX6f",
        "colab_type": "code",
        "colab": {
          "base_uri": "https://localhost:8080/",
          "height": 867
        },
        "outputId": "4d7c27d5-4419-473a-b4e0-ee1e5a219c96"
      },
      "source": [
        "hist = model.fit(padded_train,label_train,steps_per_epoch=25,epochs=50,validation_data=(padded_test, label_test),validation_steps=5,verbose=1, callbacks=[early_stopping_monitor,reduce_lr])"
      ],
      "execution_count": 116,
      "outputs": [
        {
          "output_type": "stream",
          "text": [
            "Epoch 1/50\n",
            "25/25 [==============================] - 3s 136ms/step - loss: 1.0933 - acc: 0.3858 - val_loss: 1.0978 - val_acc: 0.3521\n",
            "Epoch 2/50\n",
            "25/25 [==============================] - 3s 122ms/step - loss: 1.0504 - acc: 0.4047 - val_loss: 0.9734 - val_acc: 0.4237\n",
            "Epoch 3/50\n",
            "25/25 [==============================] - 3s 123ms/step - loss: 0.7349 - acc: 0.7156 - val_loss: 0.6519 - val_acc: 0.7510\n",
            "Epoch 4/50\n",
            "25/25 [==============================] - 3s 121ms/step - loss: 0.3917 - acc: 0.8594 - val_loss: 0.5594 - val_acc: 0.7950\n",
            "Epoch 5/50\n",
            "25/25 [==============================] - 3s 123ms/step - loss: 0.2238 - acc: 0.9182 - val_loss: 0.6068 - val_acc: 0.7840\n",
            "Epoch 6/50\n",
            "25/25 [==============================] - 3s 125ms/step - loss: 0.1700 - acc: 0.9419 - val_loss: 0.5944 - val_acc: 0.7840\n",
            "Epoch 7/50\n",
            "25/25 [==============================] - 3s 123ms/step - loss: 0.1546 - acc: 0.9446 - val_loss: 0.5912 - val_acc: 0.8019\n",
            "Epoch 8/50\n",
            "25/25 [==============================] - 3s 123ms/step - loss: 0.1386 - acc: 0.9494 - val_loss: 0.5921 - val_acc: 0.8019\n",
            "Epoch 9/50\n",
            "25/25 [==============================] - 3s 123ms/step - loss: 0.1495 - acc: 0.9460 - val_loss: 0.5957 - val_acc: 0.8019\n",
            "Epoch 10/50\n",
            "25/25 [==============================] - 3s 122ms/step - loss: 0.1418 - acc: 0.9491 - val_loss: 0.5981 - val_acc: 0.7909\n",
            "Epoch 11/50\n",
            "25/25 [==============================] - 3s 122ms/step - loss: 0.1446 - acc: 0.9522 - val_loss: 0.5991 - val_acc: 0.7964\n",
            "Epoch 12/50\n",
            "25/25 [==============================] - 3s 123ms/step - loss: 0.1416 - acc: 0.9477 - val_loss: 0.6008 - val_acc: 0.8033\n",
            "Epoch 13/50\n",
            "25/25 [==============================] - 3s 122ms/step - loss: 0.1437 - acc: 0.9429 - val_loss: 0.6039 - val_acc: 0.8033\n",
            "Epoch 14/50\n",
            "25/25 [==============================] - 3s 123ms/step - loss: 0.1476 - acc: 0.9491 - val_loss: 0.6070 - val_acc: 0.8047\n",
            "Epoch 15/50\n",
            "25/25 [==============================] - 3s 123ms/step - loss: 0.1388 - acc: 0.9505 - val_loss: 0.6101 - val_acc: 0.8047\n",
            "Epoch 16/50\n",
            "25/25 [==============================] - 3s 123ms/step - loss: 0.1408 - acc: 0.9494 - val_loss: 0.6100 - val_acc: 0.8019\n",
            "Epoch 17/50\n",
            "25/25 [==============================] - 3s 122ms/step - loss: 0.1421 - acc: 0.9477 - val_loss: 0.6133 - val_acc: 0.8019\n",
            "Epoch 18/50\n",
            "25/25 [==============================] - 3s 122ms/step - loss: 0.1389 - acc: 0.9474 - val_loss: 0.6153 - val_acc: 0.7992\n",
            "Epoch 19/50\n",
            "25/25 [==============================] - 3s 123ms/step - loss: 0.1403 - acc: 0.9446 - val_loss: 0.6164 - val_acc: 0.8033\n",
            "Epoch 20/50\n",
            "25/25 [==============================] - 3s 123ms/step - loss: 0.1366 - acc: 0.9488 - val_loss: 0.6215 - val_acc: 0.8019\n",
            "Epoch 21/50\n",
            "25/25 [==============================] - 3s 123ms/step - loss: 0.1392 - acc: 0.9494 - val_loss: 0.6281 - val_acc: 0.7950\n",
            "Epoch 22/50\n",
            "25/25 [==============================] - 3s 122ms/step - loss: 0.1422 - acc: 0.9470 - val_loss: 0.6262 - val_acc: 0.8047\n",
            "Epoch 23/50\n",
            "25/25 [==============================] - 3s 122ms/step - loss: 0.1383 - acc: 0.9470 - val_loss: 0.6258 - val_acc: 0.8033\n",
            "Epoch 24/50\n",
            "25/25 [==============================] - ETA: 0s - loss: 0.1331 - acc: 0.9498Restoring model weights from the end of the best epoch.\n",
            "25/25 [==============================] - 3s 122ms/step - loss: 0.1331 - acc: 0.9498 - val_loss: 0.6275 - val_acc: 0.8033\n",
            "Epoch 00024: early stopping\n"
          ],
          "name": "stdout"
        }
      ]
    },
    {
      "cell_type": "code",
      "metadata": {
        "id": "uhhKdz7M0d_N",
        "colab_type": "code",
        "colab": {
          "base_uri": "https://localhost:8080/",
          "height": 295
        },
        "outputId": "b6adc99c-12bb-4f56-ed0e-48d1f51f9b5d"
      },
      "source": [
        "#Visualize the model accuracy\n",
        "plt.plot(hist.history['acc'])\n",
        "plt.plot(hist.history['val_acc'])\n",
        "plt.title('Model Accuracy')\n",
        "plt.ylabel('Accuracy')\n",
        "plt.xlabel('Epoch')\n",
        "plt.legend(['Train', 'Val'], loc='upper left')\n",
        "plt.show()"
      ],
      "execution_count": 117,
      "outputs": [
        {
          "output_type": "display_data",
          "data": {
            "image/png": "[encoded data removed]",
            "text/plain": [
              "<Figure size 432x288 with 1 Axes>"
            ]
          },
          "metadata": {
            "tags": [],
            "needs_background": "light"
          }
        }
      ]
    },
    {
      "cell_type": "code",
      "metadata": {
        "id": "US-9b9il34C5",
        "colab_type": "code",
        "colab": {
          "base_uri": "https://localhost:8080/",
          "height": 295
        },
        "outputId": "f7e5bdaa-3bea-416a-a3ae-b078500bd7f6"
      },
      "source": [
        "#Visualize the model loss\n",
        "plt.plot(hist.history['loss'])\n",
        "plt.plot(hist.history['val_loss'])\n",
        "plt.title('Model Loss')\n",
        "plt.ylabel('Loss')\n",
        "plt.xlabel('Epoch')\n",
        "plt.legend(['Train', 'Val'], loc='upper right')\n",
        "plt.show()"
      ],
      "execution_count": 118,
      "outputs": [
        {
          "output_type": "display_data",
          "data": {
            "image/png": "[encoded data removed]",
            "text/plain": [
              "<Figure size 432x288 with 1 Axes>"
            ]
          },
          "metadata": {
            "tags": [],
            "needs_background": "light"
          }
        }
      ]
    }
  ]
}