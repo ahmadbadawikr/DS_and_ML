{
  "nbformat": 4,
  "nbformat_minor": 0,
  "metadata": {
    "colab": {
      "name": "TFLite_LinearRegression_0.ipynb",
      "provenance": [],
      "authorship_tag": "ABX9TyNXLUt3birONpmloe3bYcYs",
      "include_colab_link": true
    },
    "kernelspec": {
      "name": "python3",
      "display_name": "Python 3"
    }
  },
  "cells": [
    {
      "cell_type": "markdown",
      "metadata": {
        "id": "view-in-github",
        "colab_type": "text"
      },
      "source": [
        "<a href=\"https://colab.research.google.com/github/ahmadbadawikr/DS_and_ML/blob/master/TFLite_LinearRegression_0.ipynb\" target=\"_parent\"><img src=\"https://colab.research.google.com/assets/colab-badge.svg\" alt=\"Open In Colab\"/></a>"
      ]
    },
    {
      "cell_type": "code",
      "metadata": {
        "id": "nUFSFMxbEVa0",
        "colab_type": "code",
        "colab": {}
      },
      "source": [
        "%matplotlib inline\n",
        "\n",
        "import pathlib\n",
        "import numpy as np\n",
        "import matplotlib.pyplot as plt\n",
        "\n",
        "import tensorflow as tf\n",
        "from tensorflow.keras.models import Model\n",
        "from tensorflow.keras.layers import Input\n",
        "\n",
        "from google.colab import files"
      ],
      "execution_count": 1,
      "outputs": []
    },
    {
      "cell_type": "markdown",
      "metadata": {
        "id": "_WE7PCPgEzLN",
        "colab_type": "text"
      },
      "source": [
        "Create a basic model of the form y=mx+c"
      ]
    },
    {
      "cell_type": "code",
      "metadata": {
        "id": "VqbzS3OIExlg",
        "colab_type": "code",
        "colab": {
          "base_uri": "https://localhost:8080/",
          "height": 1000
        },
        "outputId": "d1eb63e7-9be4-48dd-aa26-3514fd7999c0"
      },
      "source": [
        "# Create a simple Keras model\n",
        "x = [-1, 0, 1, 2, 3, 4]\n",
        "y = [-3, -1, 1, 3, 5, 7]\n",
        "\n",
        "model = tf.keras.models.Sequential([\n",
        "                                    tf.keras.layers.Dense(units=1, input_shape=[1])\n",
        "])\n",
        "model.compile(optimizer='sgd', loss='mean_squared_error')\n",
        "model.fit(x, y, epochs=200)"
      ],
      "execution_count": 3,
      "outputs": [
        {
          "output_type": "stream",
          "text": [
            "Epoch 1/200\n",
            "1/1 [==============================] - 0s 1ms/step - loss: 24.0786\n",
            "Epoch 2/200\n",
            "1/1 [==============================] - 0s 897us/step - loss: 19.2299\n",
            "Epoch 3/200\n",
            "1/1 [==============================] - 0s 776us/step - loss: 15.4093\n",
            "Epoch 4/200\n",
            "1/1 [==============================] - 0s 765us/step - loss: 12.3977\n",
            "Epoch 5/200\n",
            "1/1 [==============================] - 0s 810us/step - loss: 10.0227\n",
            "Epoch 6/200\n",
            "1/1 [==============================] - 0s 804us/step - loss: 8.1486\n",
            "Epoch 7/200\n",
            "1/1 [==============================] - 0s 729us/step - loss: 6.6688\n",
            "Epoch 8/200\n",
            "1/1 [==============================] - 0s 881us/step - loss: 5.4992\n",
            "Epoch 9/200\n",
            "1/1 [==============================] - 0s 947us/step - loss: 4.5739\n",
            "Epoch 10/200\n",
            "1/1 [==============================] - 0s 619us/step - loss: 3.8408\n",
            "Epoch 11/200\n",
            "1/1 [==============================] - 0s 723us/step - loss: 3.2590\n",
            "Epoch 12/200\n",
            "1/1 [==============================] - 0s 915us/step - loss: 2.7965\n",
            "Epoch 13/200\n",
            "1/1 [==============================] - 0s 644us/step - loss: 2.4278\n",
            "Epoch 14/200\n",
            "1/1 [==============================] - 0s 706us/step - loss: 2.1330\n",
            "Epoch 15/200\n",
            "1/1 [==============================] - 0s 749us/step - loss: 1.8965\n",
            "Epoch 16/200\n",
            "1/1 [==============================] - 0s 750us/step - loss: 1.7060\n",
            "Epoch 17/200\n",
            "1/1 [==============================] - 0s 735us/step - loss: 1.5517\n",
            "Epoch 18/200\n",
            "1/1 [==============================] - 0s 803us/step - loss: 1.4260\n",
            "Epoch 19/200\n",
            "1/1 [==============================] - 0s 770us/step - loss: 1.3229\n",
            "Epoch 20/200\n",
            "1/1 [==============================] - 0s 681us/step - loss: 1.2377\n",
            "Epoch 21/200\n",
            "1/1 [==============================] - 0s 762us/step - loss: 1.1666\n",
            "Epoch 22/200\n",
            "1/1 [==============================] - 0s 710us/step - loss: 1.1066\n",
            "Epoch 23/200\n",
            "1/1 [==============================] - 0s 698us/step - loss: 1.0556\n",
            "Epoch 24/200\n",
            "1/1 [==============================] - 0s 720us/step - loss: 1.0117\n",
            "Epoch 25/200\n",
            "1/1 [==============================] - 0s 737us/step - loss: 0.9734\n",
            "Epoch 26/200\n",
            "1/1 [==============================] - 0s 657us/step - loss: 0.9396\n",
            "Epoch 27/200\n",
            "1/1 [==============================] - 0s 795us/step - loss: 0.9095\n",
            "Epoch 28/200\n",
            "1/1 [==============================] - 0s 723us/step - loss: 0.8823\n",
            "Epoch 29/200\n",
            "1/1 [==============================] - 0s 732us/step - loss: 0.8575\n",
            "Epoch 30/200\n",
            "1/1 [==============================] - 0s 739us/step - loss: 0.8346\n",
            "Epoch 31/200\n",
            "1/1 [==============================] - 0s 712us/step - loss: 0.8133\n",
            "Epoch 32/200\n",
            "1/1 [==============================] - 0s 750us/step - loss: 0.7933\n",
            "Epoch 33/200\n",
            "1/1 [==============================] - 0s 730us/step - loss: 0.7745\n",
            "Epoch 34/200\n",
            "1/1 [==============================] - 0s 1ms/step - loss: 0.7565\n",
            "Epoch 35/200\n",
            "1/1 [==============================] - 0s 726us/step - loss: 0.7394\n",
            "Epoch 36/200\n",
            "1/1 [==============================] - 0s 728us/step - loss: 0.7230\n",
            "Epoch 37/200\n",
            "1/1 [==============================] - 0s 742us/step - loss: 0.7071\n",
            "Epoch 38/200\n",
            "1/1 [==============================] - 0s 778us/step - loss: 0.6918\n",
            "Epoch 39/200\n",
            "1/1 [==============================] - 0s 761us/step - loss: 0.6770\n",
            "Epoch 40/200\n",
            "1/1 [==============================] - 0s 730us/step - loss: 0.6626\n",
            "Epoch 41/200\n",
            "1/1 [==============================] - 0s 897us/step - loss: 0.6486\n",
            "Epoch 42/200\n",
            "1/1 [==============================] - 0s 948us/step - loss: 0.6350\n",
            "Epoch 43/200\n",
            "1/1 [==============================] - 0s 957us/step - loss: 0.6217\n",
            "Epoch 44/200\n",
            "1/1 [==============================] - 0s 717us/step - loss: 0.6088\n",
            "Epoch 45/200\n",
            "1/1 [==============================] - 0s 731us/step - loss: 0.5961\n",
            "Epoch 46/200\n",
            "1/1 [==============================] - 0s 1ms/step - loss: 0.5838\n",
            "Epoch 47/200\n",
            "1/1 [==============================] - 0s 788us/step - loss: 0.5717\n",
            "Epoch 48/200\n",
            "1/1 [==============================] - 0s 789us/step - loss: 0.5599\n",
            "Epoch 49/200\n",
            "1/1 [==============================] - 0s 778us/step - loss: 0.5483\n",
            "Epoch 50/200\n",
            "1/1 [==============================] - 0s 841us/step - loss: 0.5370\n",
            "Epoch 51/200\n",
            "1/1 [==============================] - 0s 916us/step - loss: 0.5260\n",
            "Epoch 52/200\n",
            "1/1 [==============================] - 0s 824us/step - loss: 0.5151\n",
            "Epoch 53/200\n",
            "1/1 [==============================] - 0s 861us/step - loss: 0.5045\n",
            "Epoch 54/200\n",
            "1/1 [==============================] - 0s 2ms/step - loss: 0.4941\n",
            "Epoch 55/200\n",
            "1/1 [==============================] - 0s 786us/step - loss: 0.4840\n",
            "Epoch 56/200\n",
            "1/1 [==============================] - 0s 720us/step - loss: 0.4740\n",
            "Epoch 57/200\n",
            "1/1 [==============================] - 0s 801us/step - loss: 0.4643\n",
            "Epoch 58/200\n",
            "1/1 [==============================] - 0s 792us/step - loss: 0.4547\n",
            "Epoch 59/200\n",
            "1/1 [==============================] - 0s 855us/step - loss: 0.4454\n",
            "Epoch 60/200\n",
            "1/1 [==============================] - 0s 763us/step - loss: 0.4362\n",
            "Epoch 61/200\n",
            "1/1 [==============================] - 0s 690us/step - loss: 0.4273\n",
            "Epoch 62/200\n",
            "1/1 [==============================] - 0s 768us/step - loss: 0.4185\n",
            "Epoch 63/200\n",
            "1/1 [==============================] - 0s 770us/step - loss: 0.4099\n",
            "Epoch 64/200\n",
            "1/1 [==============================] - 0s 785us/step - loss: 0.4015\n",
            "Epoch 65/200\n",
            "1/1 [==============================] - 0s 792us/step - loss: 0.3932\n",
            "Epoch 66/200\n",
            "1/1 [==============================] - 0s 768us/step - loss: 0.3852\n",
            "Epoch 67/200\n",
            "1/1 [==============================] - 0s 778us/step - loss: 0.3772\n",
            "Epoch 68/200\n",
            "1/1 [==============================] - 0s 2ms/step - loss: 0.3695\n",
            "Epoch 69/200\n",
            "1/1 [==============================] - 0s 759us/step - loss: 0.3619\n",
            "Epoch 70/200\n",
            "1/1 [==============================] - 0s 695us/step - loss: 0.3545\n",
            "Epoch 71/200\n",
            "1/1 [==============================] - 0s 783us/step - loss: 0.3472\n",
            "Epoch 72/200\n",
            "1/1 [==============================] - 0s 762us/step - loss: 0.3401\n",
            "Epoch 73/200\n",
            "1/1 [==============================] - 0s 845us/step - loss: 0.3331\n",
            "Epoch 74/200\n",
            "1/1 [==============================] - 0s 807us/step - loss: 0.3262\n",
            "Epoch 75/200\n",
            "1/1 [==============================] - 0s 954us/step - loss: 0.3195\n",
            "Epoch 76/200\n",
            "1/1 [==============================] - 0s 766us/step - loss: 0.3130\n",
            "Epoch 77/200\n",
            "1/1 [==============================] - 0s 970us/step - loss: 0.3065\n",
            "Epoch 78/200\n",
            "1/1 [==============================] - 0s 776us/step - loss: 0.3002\n",
            "Epoch 79/200\n",
            "1/1 [==============================] - 0s 778us/step - loss: 0.2941\n",
            "Epoch 80/200\n",
            "1/1 [==============================] - 0s 1ms/step - loss: 0.2880\n",
            "Epoch 81/200\n",
            "1/1 [==============================] - 0s 691us/step - loss: 0.2821\n",
            "Epoch 82/200\n",
            "1/1 [==============================] - 0s 691us/step - loss: 0.2763\n",
            "Epoch 83/200\n",
            "1/1 [==============================] - 0s 752us/step - loss: 0.2706\n",
            "Epoch 84/200\n",
            "1/1 [==============================] - 0s 766us/step - loss: 0.2651\n",
            "Epoch 85/200\n",
            "1/1 [==============================] - 0s 769us/step - loss: 0.2596\n",
            "Epoch 86/200\n",
            "1/1 [==============================] - 0s 757us/step - loss: 0.2543\n",
            "Epoch 87/200\n",
            "1/1 [==============================] - 0s 700us/step - loss: 0.2491\n",
            "Epoch 88/200\n",
            "1/1 [==============================] - 0s 732us/step - loss: 0.2440\n",
            "Epoch 89/200\n",
            "1/1 [==============================] - 0s 779us/step - loss: 0.2390\n",
            "Epoch 90/200\n",
            "1/1 [==============================] - 0s 905us/step - loss: 0.2340\n",
            "Epoch 91/200\n",
            "1/1 [==============================] - 0s 754us/step - loss: 0.2292\n",
            "Epoch 92/200\n",
            "1/1 [==============================] - 0s 763us/step - loss: 0.2245\n",
            "Epoch 93/200\n",
            "1/1 [==============================] - 0s 773us/step - loss: 0.2199\n",
            "Epoch 94/200\n",
            "1/1 [==============================] - 0s 707us/step - loss: 0.2154\n",
            "Epoch 95/200\n",
            "1/1 [==============================] - 0s 724us/step - loss: 0.2110\n",
            "Epoch 96/200\n",
            "1/1 [==============================] - 0s 793us/step - loss: 0.2066\n",
            "Epoch 97/200\n",
            "1/1 [==============================] - 0s 690us/step - loss: 0.2024\n",
            "Epoch 98/200\n",
            "1/1 [==============================] - 0s 687us/step - loss: 0.1982\n",
            "Epoch 99/200\n",
            "1/1 [==============================] - 0s 911us/step - loss: 0.1942\n",
            "Epoch 100/200\n",
            "1/1 [==============================] - 0s 897us/step - loss: 0.1902\n",
            "Epoch 101/200\n",
            "1/1 [==============================] - 0s 765us/step - loss: 0.1863\n",
            "Epoch 102/200\n",
            "1/1 [==============================] - 0s 758us/step - loss: 0.1824\n",
            "Epoch 103/200\n",
            "1/1 [==============================] - 0s 736us/step - loss: 0.1787\n",
            "Epoch 104/200\n",
            "1/1 [==============================] - 0s 721us/step - loss: 0.1750\n",
            "Epoch 105/200\n",
            "1/1 [==============================] - 0s 763us/step - loss: 0.1714\n",
            "Epoch 106/200\n",
            "1/1 [==============================] - 0s 737us/step - loss: 0.1679\n",
            "Epoch 107/200\n",
            "1/1 [==============================] - 0s 734us/step - loss: 0.1645\n",
            "Epoch 108/200\n",
            "1/1 [==============================] - 0s 952us/step - loss: 0.1611\n",
            "Epoch 109/200\n",
            "1/1 [==============================] - 0s 774us/step - loss: 0.1578\n",
            "Epoch 110/200\n",
            "1/1 [==============================] - 0s 683us/step - loss: 0.1545\n",
            "Epoch 111/200\n",
            "1/1 [==============================] - 0s 784us/step - loss: 0.1514\n",
            "Epoch 112/200\n",
            "1/1 [==============================] - 0s 747us/step - loss: 0.1483\n",
            "Epoch 113/200\n",
            "1/1 [==============================] - 0s 885us/step - loss: 0.1452\n",
            "Epoch 114/200\n",
            "1/1 [==============================] - 0s 690us/step - loss: 0.1422\n",
            "Epoch 115/200\n",
            "1/1 [==============================] - 0s 746us/step - loss: 0.1393\n",
            "Epoch 116/200\n",
            "1/1 [==============================] - 0s 788us/step - loss: 0.1364\n",
            "Epoch 117/200\n",
            "1/1 [==============================] - 0s 774us/step - loss: 0.1336\n",
            "Epoch 118/200\n",
            "1/1 [==============================] - 0s 780us/step - loss: 0.1309\n",
            "Epoch 119/200\n",
            "1/1 [==============================] - 0s 817us/step - loss: 0.1282\n",
            "Epoch 120/200\n",
            "1/1 [==============================] - 0s 2ms/step - loss: 0.1256\n",
            "Epoch 121/200\n",
            "1/1 [==============================] - 0s 764us/step - loss: 0.1230\n",
            "Epoch 122/200\n",
            "1/1 [==============================] - 0s 815us/step - loss: 0.1205\n",
            "Epoch 123/200\n",
            "1/1 [==============================] - 0s 695us/step - loss: 0.1180\n",
            "Epoch 124/200\n",
            "1/1 [==============================] - 0s 660us/step - loss: 0.1156\n",
            "Epoch 125/200\n",
            "1/1 [==============================] - 0s 748us/step - loss: 0.1132\n",
            "Epoch 126/200\n",
            "1/1 [==============================] - 0s 787us/step - loss: 0.1109\n",
            "Epoch 127/200\n",
            "1/1 [==============================] - 0s 671us/step - loss: 0.1086\n",
            "Epoch 128/200\n",
            "1/1 [==============================] - 0s 2ms/step - loss: 0.1064\n",
            "Epoch 129/200\n",
            "1/1 [==============================] - 0s 1ms/step - loss: 0.1042\n",
            "Epoch 130/200\n",
            "1/1 [==============================] - 0s 753us/step - loss: 0.1020\n",
            "Epoch 131/200\n",
            "1/1 [==============================] - 0s 1ms/step - loss: 0.0999\n",
            "Epoch 132/200\n",
            "1/1 [==============================] - 0s 803us/step - loss: 0.0979\n",
            "Epoch 133/200\n",
            "1/1 [==============================] - 0s 774us/step - loss: 0.0959\n",
            "Epoch 134/200\n",
            "1/1 [==============================] - 0s 811us/step - loss: 0.0939\n",
            "Epoch 135/200\n",
            "1/1 [==============================] - 0s 812us/step - loss: 0.0920\n",
            "Epoch 136/200\n",
            "1/1 [==============================] - 0s 765us/step - loss: 0.0901\n",
            "Epoch 137/200\n",
            "1/1 [==============================] - 0s 1ms/step - loss: 0.0882\n",
            "Epoch 138/200\n",
            "1/1 [==============================] - 0s 759us/step - loss: 0.0864\n",
            "Epoch 139/200\n",
            "1/1 [==============================] - 0s 771us/step - loss: 0.0847\n",
            "Epoch 140/200\n",
            "1/1 [==============================] - 0s 769us/step - loss: 0.0829\n",
            "Epoch 141/200\n",
            "1/1 [==============================] - 0s 964us/step - loss: 0.0812\n",
            "Epoch 142/200\n",
            "1/1 [==============================] - 0s 717us/step - loss: 0.0795\n",
            "Epoch 143/200\n",
            "1/1 [==============================] - 0s 784us/step - loss: 0.0779\n",
            "Epoch 144/200\n",
            "1/1 [==============================] - 0s 769us/step - loss: 0.0763\n",
            "Epoch 145/200\n",
            "1/1 [==============================] - 0s 751us/step - loss: 0.0747\n",
            "Epoch 146/200\n",
            "1/1 [==============================] - 0s 770us/step - loss: 0.0732\n",
            "Epoch 147/200\n",
            "1/1 [==============================] - 0s 757us/step - loss: 0.0717\n",
            "Epoch 148/200\n",
            "1/1 [==============================] - 0s 753us/step - loss: 0.0702\n",
            "Epoch 149/200\n",
            "1/1 [==============================] - 0s 678us/step - loss: 0.0688\n",
            "Epoch 150/200\n",
            "1/1 [==============================] - 0s 660us/step - loss: 0.0674\n",
            "Epoch 151/200\n",
            "1/1 [==============================] - 0s 828us/step - loss: 0.0660\n",
            "Epoch 152/200\n",
            "1/1 [==============================] - 0s 741us/step - loss: 0.0646\n",
            "Epoch 153/200\n",
            "1/1 [==============================] - 0s 716us/step - loss: 0.0633\n",
            "Epoch 154/200\n",
            "1/1 [==============================] - 0s 747us/step - loss: 0.0620\n",
            "Epoch 155/200\n",
            "1/1 [==============================] - 0s 756us/step - loss: 0.0607\n",
            "Epoch 156/200\n",
            "1/1 [==============================] - 0s 776us/step - loss: 0.0595\n",
            "Epoch 157/200\n",
            "1/1 [==============================] - 0s 778us/step - loss: 0.0583\n",
            "Epoch 158/200\n",
            "1/1 [==============================] - 0s 748us/step - loss: 0.0571\n",
            "Epoch 159/200\n",
            "1/1 [==============================] - 0s 728us/step - loss: 0.0559\n",
            "Epoch 160/200\n",
            "1/1 [==============================] - 0s 752us/step - loss: 0.0547\n",
            "Epoch 161/200\n",
            "1/1 [==============================] - 0s 817us/step - loss: 0.0536\n",
            "Epoch 162/200\n",
            "1/1 [==============================] - 0s 739us/step - loss: 0.0525\n",
            "Epoch 163/200\n",
            "1/1 [==============================] - 0s 842us/step - loss: 0.0514\n",
            "Epoch 164/200\n",
            "1/1 [==============================] - 0s 1ms/step - loss: 0.0504\n",
            "Epoch 165/200\n",
            "1/1 [==============================] - 0s 658us/step - loss: 0.0493\n",
            "Epoch 166/200\n",
            "1/1 [==============================] - 0s 736us/step - loss: 0.0483\n",
            "Epoch 167/200\n",
            "1/1 [==============================] - 0s 744us/step - loss: 0.0473\n",
            "Epoch 168/200\n",
            "1/1 [==============================] - 0s 698us/step - loss: 0.0464\n",
            "Epoch 169/200\n",
            "1/1 [==============================] - 0s 720us/step - loss: 0.0454\n",
            "Epoch 170/200\n",
            "1/1 [==============================] - 0s 932us/step - loss: 0.0445\n",
            "Epoch 171/200\n",
            "1/1 [==============================] - 0s 755us/step - loss: 0.0436\n",
            "Epoch 172/200\n",
            "1/1 [==============================] - 0s 662us/step - loss: 0.0427\n",
            "Epoch 173/200\n",
            "1/1 [==============================] - 0s 762us/step - loss: 0.0418\n",
            "Epoch 174/200\n",
            "1/1 [==============================] - 0s 736us/step - loss: 0.0409\n",
            "Epoch 175/200\n",
            "1/1 [==============================] - 0s 730us/step - loss: 0.0401\n",
            "Epoch 176/200\n",
            "1/1 [==============================] - 0s 669us/step - loss: 0.0393\n",
            "Epoch 177/200\n",
            "1/1 [==============================] - 0s 748us/step - loss: 0.0385\n",
            "Epoch 178/200\n",
            "1/1 [==============================] - 0s 718us/step - loss: 0.0377\n",
            "Epoch 179/200\n",
            "1/1 [==============================] - 0s 720us/step - loss: 0.0369\n",
            "Epoch 180/200\n",
            "1/1 [==============================] - 0s 733us/step - loss: 0.0361\n",
            "Epoch 181/200\n",
            "1/1 [==============================] - 0s 730us/step - loss: 0.0354\n",
            "Epoch 182/200\n",
            "1/1 [==============================] - 0s 725us/step - loss: 0.0347\n",
            "Epoch 183/200\n",
            "1/1 [==============================] - 0s 831us/step - loss: 0.0340\n",
            "Epoch 184/200\n",
            "1/1 [==============================] - 0s 3ms/step - loss: 0.0333\n",
            "Epoch 185/200\n",
            "1/1 [==============================] - 0s 863us/step - loss: 0.0326\n",
            "Epoch 186/200\n",
            "1/1 [==============================] - 0s 729us/step - loss: 0.0319\n",
            "Epoch 187/200\n",
            "1/1 [==============================] - 0s 709us/step - loss: 0.0313\n",
            "Epoch 188/200\n",
            "1/1 [==============================] - 0s 740us/step - loss: 0.0306\n",
            "Epoch 189/200\n",
            "1/1 [==============================] - 0s 811us/step - loss: 0.0300\n",
            "Epoch 190/200\n",
            "1/1 [==============================] - 0s 732us/step - loss: 0.0294\n",
            "Epoch 191/200\n",
            "1/1 [==============================] - 0s 667us/step - loss: 0.0288\n",
            "Epoch 192/200\n",
            "1/1 [==============================] - 0s 745us/step - loss: 0.0282\n",
            "Epoch 193/200\n",
            "1/1 [==============================] - 0s 740us/step - loss: 0.0276\n",
            "Epoch 194/200\n",
            "1/1 [==============================] - 0s 660us/step - loss: 0.0270\n",
            "Epoch 195/200\n",
            "1/1 [==============================] - 0s 732us/step - loss: 0.0265\n",
            "Epoch 196/200\n",
            "1/1 [==============================] - 0s 717us/step - loss: 0.0259\n",
            "Epoch 197/200\n",
            "1/1 [==============================] - 0s 717us/step - loss: 0.0254\n",
            "Epoch 198/200\n",
            "1/1 [==============================] - 0s 735us/step - loss: 0.0249\n",
            "Epoch 199/200\n",
            "1/1 [==============================] - 0s 795us/step - loss: 0.0244\n",
            "Epoch 200/200\n",
            "1/1 [==============================] - 0s 697us/step - loss: 0.0239\n"
          ],
          "name": "stdout"
        },
        {
          "output_type": "execute_result",
          "data": {
            "text/plain": [
              "<tensorflow.python.keras.callbacks.History at 0x7f2ea70bd630>"
            ]
          },
          "metadata": {
            "tags": []
          },
          "execution_count": 3
        }
      ]
    },
    {
      "cell_type": "markdown",
      "metadata": {
        "id": "Yw4lf29WFi-f",
        "colab_type": "text"
      },
      "source": [
        "Generate a Saved Model"
      ]
    },
    {
      "cell_type": "code",
      "metadata": {
        "id": "yLcJGwBlFZJ8",
        "colab_type": "code",
        "colab": {
          "base_uri": "https://localhost:8080/",
          "height": 156
        },
        "outputId": "346a8dff-8fd0-4d18-bb6c-e2d568ebd32e"
      },
      "source": [
        "export_dir = 'saved_model/1'\n",
        "tf.saved_model.save(model, export_dir)"
      ],
      "execution_count": 4,
      "outputs": [
        {
          "output_type": "stream",
          "text": [
            "WARNING:tensorflow:From /usr/local/lib/python3.6/dist-packages/tensorflow/python/training/tracking/tracking.py:111: Model.state_updates (from tensorflow.python.keras.engine.training) is deprecated and will be removed in a future version.\n",
            "Instructions for updating:\n",
            "This property should not be used in TensorFlow 2.0, as updates are applied automatically.\n",
            "WARNING:tensorflow:From /usr/local/lib/python3.6/dist-packages/tensorflow/python/training/tracking/tracking.py:111: Layer.updates (from tensorflow.python.keras.engine.base_layer) is deprecated and will be removed in a future version.\n",
            "Instructions for updating:\n",
            "This property should not be used in TensorFlow 2.0, as updates are applied automatically.\n",
            "INFO:tensorflow:Assets written to: saved_model/1/assets\n"
          ],
          "name": "stdout"
        }
      ]
    },
    {
      "cell_type": "markdown",
      "metadata": {
        "id": "kr6e3_wZFsEp",
        "colab_type": "text"
      },
      "source": [
        "Convert the SavedModel to TFLite"
      ]
    },
    {
      "cell_type": "code",
      "metadata": {
        "id": "KzsPfBNxFrft",
        "colab_type": "code",
        "colab": {}
      },
      "source": [
        "# Convert the Model\n",
        "converter = tf.lite.TFLiteConverter.from_saved_model(export_dir)\n",
        "tflite_model = converter.convert()"
      ],
      "execution_count": 5,
      "outputs": []
    },
    {
      "cell_type": "code",
      "metadata": {
        "id": "ioW0TFXKF3nd",
        "colab_type": "code",
        "colab": {
          "base_uri": "https://localhost:8080/",
          "height": 34
        },
        "outputId": "00d08629-ca9e-4a5b-cb03-a3180d1d90d0"
      },
      "source": [
        "tflite_model_file = pathlib.Path('/content/model.tflite')\n",
        "tflite_model_file.write_bytes(tflite_model)"
      ],
      "execution_count": 6,
      "outputs": [
        {
          "output_type": "execute_result",
          "data": {
            "text/plain": [
              "776"
            ]
          },
          "metadata": {
            "tags": []
          },
          "execution_count": 6
        }
      ]
    },
    {
      "cell_type": "markdown",
      "metadata": {
        "id": "S57KlVBsGFKP",
        "colab_type": "text"
      },
      "source": [
        "Initialize TF Lite Interpreter to try Out"
      ]
    },
    {
      "cell_type": "code",
      "metadata": {
        "id": "hNUyMOxgGJTW",
        "colab_type": "code",
        "colab": {}
      },
      "source": [
        "# Load TFLite model and allocate tensor\n",
        "interpreter = tf.lite.Interpreter(model_content=tflite_model)\n",
        "interpreter.allocate_tensors()\n",
        "\n",
        "# Get input and output tensors\n",
        "input_details = interpreter.get_input_details()\n",
        "output_details = interpreter.get_output_details()"
      ],
      "execution_count": 7,
      "outputs": []
    },
    {
      "cell_type": "code",
      "metadata": {
        "id": "tEncC_2SGexO",
        "colab_type": "code",
        "colab": {}
      },
      "source": [
        "# test the Tensorflow lite model on random input data\n",
        "input_shape = input_details[0]['shape']\n",
        "inputs, outputs = [], []\n",
        "for _ in range(100):\n",
        "  input_data = np.array(np.random.random_sample(input_shape), dtype=np.float32)\n",
        "  interpreter.set_tensor(input_details[0]['index'], input_data)\n",
        "\n",
        "  interpreter.invoke()\n",
        "  tflite_results = interpreter.get_tensor(output_details[0]['index'])\n",
        "\n",
        "  # Test Tensorflow model on random input data\n",
        "  tf_results = model(tf.constant(input_data))\n",
        "  output_data = np.array(tf_results)\n",
        "\n",
        "  inputs.append(input_data[0][0])\n",
        "  outputs.append(output_data[0][0])"
      ],
      "execution_count": 8,
      "outputs": []
    },
    {
      "cell_type": "markdown",
      "metadata": {
        "id": "PmRrWtAEHVoY",
        "colab_type": "text"
      },
      "source": [
        "Model Viz"
      ]
    },
    {
      "cell_type": "code",
      "metadata": {
        "id": "9ikp3AzXHWlW",
        "colab_type": "code",
        "colab": {
          "base_uri": "https://localhost:8080/",
          "height": 265
        },
        "outputId": "0cc8d0ea-3fad-45cc-e432-746530a15dc2"
      },
      "source": [
        "plt.plot(inputs, outputs, 'r')\n",
        "plt.show()"
      ],
      "execution_count": 9,
      "outputs": [
        {
          "output_type": "display_data",
          "data": {
            "image/png": "[encoded data removed]",
            "text/plain": [
              "<Figure size 432x288 with 1 Axes>"
            ]
          },
          "metadata": {
            "tags": [],
            "needs_background": "light"
          }
        }
      ]
    },
    {
      "cell_type": "markdown",
      "metadata": {
        "id": "KAwx94KdHjRO",
        "colab_type": "text"
      },
      "source": [
        "Download the TFLite model file"
      ]
    },
    {
      "cell_type": "code",
      "metadata": {
        "id": "RDt8LvA_HlAP",
        "colab_type": "code",
        "colab": {
          "base_uri": "https://localhost:8080/",
          "height": 17
        },
        "outputId": "27da1549-a8b4-4a7c-bcae-ef463ee87b99"
      },
      "source": [
        "files.download(tflite_model_file)"
      ],
      "execution_count": 10,
      "outputs": [
        {
          "output_type": "display_data",
          "data": {
            "application/javascript": [
              "\n",
              "    async function download(id, filename, size) {\n",
              "      if (!google.colab.kernel.accessAllowed) {\n",
              "        return;\n",
              "      }\n",
              "      const div = document.createElement('div');\n",
              "      const label = document.createElement('label');\n",
              "      label.textContent = `Downloading \"${filename}\": `;\n",
              "      div.appendChild(label);\n",
              "      const progress = document.createElement('progress');\n",
              "      progress.max = size;\n",
              "      div.appendChild(progress);\n",
              "      document.body.appendChild(div);\n",
              "\n",
              "      const buffers = [];\n",
              "      let downloaded = 0;\n",
              "\n",
              "      const channel = await google.colab.kernel.comms.open(id);\n",
              "      // Send a message to notify the kernel that we're ready.\n",
              "      channel.send({})\n",
              "\n",
              "      for await (const message of channel.messages) {\n",
              "        // Send a message to notify the kernel that we're ready.\n",
              "        channel.send({})\n",
              "        if (message.buffers) {\n",
              "          for (const buffer of message.buffers) {\n",
              "            buffers.push(buffer);\n",
              "            downloaded += buffer.byteLength;\n",
              "            progress.value = downloaded;\n",
              "          }\n",
              "        }\n",
              "      }\n",
              "      const blob = new Blob(buffers, {type: 'application/binary'});\n",
              "      const a = document.createElement('a');\n",
              "      a.href = window.URL.createObjectURL(blob);\n",
              "      a.download = filename;\n",
              "      div.appendChild(a);\n",
              "      a.click();\n",
              "      div.remove();\n",
              "    }\n",
              "  "
            ],
            "text/plain": [
              "<IPython.core.display.Javascript object>"
            ]
          },
          "metadata": {
            "tags": []
          }
        },
        {
          "output_type": "display_data",
          "data": {
            "application/javascript": [
              "download(\"download_edda04fc-6961-407e-9d3e-0761443a888c\", \"model.tflite\", 776)"
            ],
            "text/plain": [
              "<IPython.core.display.Javascript object>"
            ]
          },
          "metadata": {
            "tags": []
          }
        }
      ]
    }
  ]
}